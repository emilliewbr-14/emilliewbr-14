{
  "nbformat": 4,
  "nbformat_minor": 0,
  "metadata": {
    "colab": {
      "provenance": [],
      "collapsed_sections": [
        "PTv5ylJ77mB2",
        "3wifDdWd7z2f"
      ],
      "include_colab_link": true
    },
    "kernelspec": {
      "name": "python3",
      "display_name": "Python 3"
    },
    "language_info": {
      "name": "python"
    }
  },
  "cells": [
    {
      "cell_type": "markdown",
      "metadata": {
        "id": "view-in-github",
        "colab_type": "text"
      },
      "source": [
        "<a href=\"https://colab.research.google.com/github/emilliewbr-14/emilliewbr-14/blob/main/Pneus.ipynb\" target=\"_parent\"><img src=\"https://colab.research.google.com/assets/colab-badge.svg\" alt=\"Open In Colab\"/></a>"
      ]
    },
    {
      "cell_type": "markdown",
      "source": [
        "# Cornering"
      ],
      "metadata": {
        "id": "PTv5ylJ77mB2"
      }
    },
    {
      "cell_type": "code",
      "source": [
        "def f_curva(w, coef_at):\n",
        "  \"\"\"\n",
        "  Força de curva máxima suportada pelo pneu [N]\n",
        "\n",
        "  w = peso do carro [N]\n",
        "  coef_at = coeficiente de atrito [adimensional]\n",
        "\n",
        "  \"\"\"\n",
        "  f = w * coef_at\n",
        "  return f\n",
        "\n",
        "f_curva(7350, 1.5) #exemplo derek seward pág. 16 e 17"
      ],
      "metadata": {
        "colab": {
          "base_uri": "https://localhost:8080/"
        },
        "id": "4zqOR6nndCIc",
        "outputId": "1601ec55-aadd-458a-d047-bc62ce8d6813"
      },
      "execution_count": null,
      "outputs": [
        {
          "output_type": "execute_result",
          "data": {
            "text/plain": [
              "11025.0"
            ]
          },
          "metadata": {},
          "execution_count": 2
        }
      ]
    },
    {
      "cell_type": "code",
      "source": [
        "help(f_curva)"
      ],
      "metadata": {
        "colab": {
          "base_uri": "https://localhost:8080/"
        },
        "id": "crvM3w7nrN9G",
        "outputId": "fbf445ce-1381-4b89-f6f7-f8f70a1787a5"
      },
      "execution_count": null,
      "outputs": [
        {
          "output_type": "stream",
          "name": "stdout",
          "text": [
            "Help on function f_curva in module __main__:\n",
            "\n",
            "f_curva(w, coef_at)\n",
            "    Força de curva máxima suportada pelo pneu [N]\n",
            "    \n",
            "    w = peso do carro [N]\n",
            "    coef_at = coeficiente de atrito [adimensional]\n",
            "\n"
          ]
        }
      ]
    },
    {
      "cell_type": "code",
      "source": [
        "def coef_at_max_curva(w, r, v):\n",
        "  \"\"\"\n",
        "  Coeficiente de atrito do pneu necessário para fazer uma curva de raio 'r' na velocidade 'v' [adimensional]\n",
        "\n",
        "  w = peso do carro [N]\n",
        "  r = raio de curva [m]\n",
        "  v = velocidade de curva [m/s]\n",
        "\n",
        "  \"\"\"\n",
        "  m = w/9.81\n",
        "  F = (m*v**2)/r\n",
        "  return F/(w)\n",
        "\n",
        "coef_at_max_curva(7350, 100, 138/3.6) #exemplo derek seward pág. 21"
      ],
      "metadata": {
        "colab": {
          "base_uri": "https://localhost:8080/"
        },
        "id": "Ncp4z1Esw_LN",
        "outputId": "829bf1d8-59df-4d38-d656-506df018dd77"
      },
      "execution_count": null,
      "outputs": [
        {
          "output_type": "execute_result",
          "data": {
            "text/plain": [
              "1.4979046324612075"
            ]
          },
          "metadata": {},
          "execution_count": 4
        }
      ]
    },
    {
      "cell_type": "code",
      "source": [
        "def vel_curva(w, r, coef_at):\n",
        "  \"\"\"\n",
        "  Velocidade máxima de curva suportada pelo pneu de coeficiente de atrito 'coef_at' em uma curva de raio 'r' [m/s]\n",
        "\n",
        "  w = peso do carro [N]\n",
        "  r = raio de curva [m]\n",
        "  coef_at = coeficiente de atrito [adimensional]\n",
        "\n",
        "  OUTPUT\n",
        "\n",
        "  v = velocidade máxima de curva [km/h]\n",
        "  \"\"\"\n",
        "  m = w/9.81\n",
        "  F = w*coef_at\n",
        "  v2 = (F*r)/m\n",
        "  v = (v2**0.5)*3.6\n",
        "  return v\n",
        "\n",
        "vel_curva(7350, 100, 1.5) #exemplo derek seward pág. 21"
      ],
      "metadata": {
        "colab": {
          "base_uri": "https://localhost:8080/"
        },
        "id": "OQYNV3RczM_g",
        "outputId": "aff4e37f-e592-4c53-fc19-2c3921bb39dd"
      },
      "execution_count": null,
      "outputs": [
        {
          "output_type": "execute_result",
          "data": {
            "text/plain": [
              "138.09648800747976"
            ]
          },
          "metadata": {},
          "execution_count": 5
        }
      ]
    },
    {
      "cell_type": "code",
      "source": [
        "def acel_lateral(w, F):\n",
        "  \"\"\"\n",
        "  aceleração lateral [m/s^2]\n",
        "\n",
        "  r = raio de curva [m]\n",
        "  v = velocidade de curva [m/s]\n",
        "\n",
        "  \"\"\"\n",
        "  g = 9.81\n",
        "  m = w/g\n",
        "\n",
        "  a = F/m/g\n",
        "  return a\n",
        "\n",
        "acel_lateral(7350,f_curva(7350, 1.5))"
      ],
      "metadata": {
        "colab": {
          "base_uri": "https://localhost:8080/"
        },
        "id": "VMSVtYAMqc0U",
        "outputId": "bc176d58-6cc5-418b-f40f-674189fce8c8"
      },
      "execution_count": null,
      "outputs": [
        {
          "output_type": "execute_result",
          "data": {
            "text/plain": [
              "1.5"
            ]
          },
          "metadata": {},
          "execution_count": 6
        }
      ]
    },
    {
      "cell_type": "code",
      "source": [
        "def transf_lateral(F, hm, T):\n",
        "  \"\"\"\n",
        "  Transferencia do peso em roll [N]\n",
        "\n",
        "  F = força de curva máxima suportada pelo pneu [N]\n",
        "  hm = altura do centro de massa [mm]\n",
        "  T = bitola do carro (track) [mm]\n",
        "\n",
        "  \"\"\"\n",
        "  return (F*hm)/T\n",
        "transf_lateral(f_curva(7350, 1.5), 325, 1500) #exemplo derek seward pág. 21"
      ],
      "metadata": {
        "colab": {
          "base_uri": "https://localhost:8080/"
        },
        "id": "4VPwb7uljpv_",
        "outputId": "078b657b-bc4d-414b-c6dc-1fd8af862480"
      },
      "execution_count": null,
      "outputs": [
        {
          "output_type": "execute_result",
          "data": {
            "text/plain": [
              "2388.75"
            ]
          },
          "metadata": {},
          "execution_count": 7
        }
      ]
    },
    {
      "cell_type": "code",
      "source": [
        "def peso_rodas_lateral(w, F, hm, T, k=0.5, lado='r'):\n",
        "  \"\"\"\n",
        "  Distribuição de peso nas rodas em curva (roll)\n",
        "\n",
        "  w = peso do carro [N]\n",
        "  k = porcentagem de peso no lado direito do carro /100 [adimensional]\n",
        "  F = força de curva máxima suportada pelo pneu [N]\n",
        "  hm = altura do centro de massa [mm]\n",
        "  T = bitola do carro (track) [mm]\n",
        "\n",
        "  OUTPUT\n",
        "    Wrr = peso na roda traseira direita [N]\n",
        "    Wrl = peso na roda traseira esquerda [N]\n",
        "    Wfr = peso na roda dianteira direita [N]\n",
        "    Wfl = peso na roda dianteira esquerda [N]\n",
        "  \"\"\"\n",
        "\n",
        "  def transf_lateral(F, hm, T):\n",
        "    \"\"\"\n",
        "    Transferencia do peso em roll\n",
        "\n",
        "    F = força de curva máxima suportada pelo pneu [N]\n",
        "    hm = altura do centro de massa [mm]\n",
        "    T = bitola do carro (track) [mm]\n",
        "\n",
        "    \"\"\"\n",
        "    return (F*hm)/T\n",
        "\n",
        "  Wr = w * k\n",
        "  Wl = w * 1-k\n",
        "\n",
        "  if lado == 'r':\n",
        "    dW = - transf_lateral(F, hm, T)\n",
        "  elif lado == 'l':\n",
        "    dW = transf_lateral(F, hm, T)\n",
        "\n",
        "\n",
        "  Wrr = (Wr - dW)/2\n",
        "  Wrl = (Wr + dW)/2\n",
        "  Wfr = Wrr\n",
        "  Wfl = Wrl\n",
        "\n",
        "  return Wrr, Wrl, Wfr, Wfl\n",
        "\n",
        "F = f_curva(7350, 1.5)\n",
        "peso_rodas_lateral(7350, F, 325, 1500) #exemplo derek seward pág. 21"
      ],
      "metadata": {
        "colab": {
          "base_uri": "https://localhost:8080/"
        },
        "id": "uol-12SOcQkl",
        "outputId": "3eefe4b2-c2b1-43f5-ba15-eba73a339810"
      },
      "execution_count": null,
      "outputs": [
        {
          "output_type": "execute_result",
          "data": {
            "text/plain": [
              "(3031.875, 643.125, 3031.875, 643.125)"
            ]
          },
          "metadata": {},
          "execution_count": 8
        }
      ]
    },
    {
      "cell_type": "markdown",
      "source": [
        "# Accel"
      ],
      "metadata": {
        "id": "3wifDdWd7z2f"
      }
    },
    {
      "cell_type": "code",
      "source": [
        "def f_tracao(w, k, coef_at, hm, L):\n",
        "  \"\"\"\n",
        "  Força de tração máxima suportada pelo pneu [N]\n",
        "\n",
        "  w = peso do carro [N]\n",
        "  k = porcentagem de peso na traseira /100 [adimensional]\n",
        "  coef_at = coeficiente de atrito do pneu [adimensional]\n",
        "  hm = altura do centro de massa [mm]\n",
        "  L = entre eixos [mm]\n",
        "\n",
        "  \"\"\"\n",
        "\n",
        "  Wr = w * k #estático\n",
        "  Wf = w * 1-k #estático\n",
        "  F = (Wr * coef_at)/ (1 - (hm*coef_at)/L)\n",
        "\n",
        "  return F\n",
        "\n",
        "f_tracao(7350, 1950/3215, 1.5, 325, 3215) #exemplo derek seward pág. 13"
      ],
      "metadata": {
        "colab": {
          "base_uri": "https://localhost:8080/"
        },
        "id": "oxI7IldC78m9",
        "outputId": "e7b517ba-2329-46e5-830e-f75e2707a161"
      },
      "execution_count": null,
      "outputs": [
        {
          "output_type": "execute_result",
          "data": {
            "text/plain": [
              "7882.2181484876255"
            ]
          },
          "metadata": {},
          "execution_count": 4
        }
      ]
    },
    {
      "cell_type": "code",
      "source": [
        "F = f_tracao(315*9.8,0.641,1.5,215,1600)"
      ],
      "metadata": {
        "colab": {
          "base_uri": "https://localhost:8080/"
        },
        "id": "w94cfl9pSB0E",
        "outputId": "9594b7b4-719b-4375-9e11-009b87e264dc"
      },
      "execution_count": null,
      "outputs": [
        {
          "output_type": "execute_result",
          "data": {
            "text/plain": [
              "3717.448767123288"
            ]
          },
          "metadata": {},
          "execution_count": 5
        }
      ]
    },
    {
      "cell_type": "code",
      "source": [
        "def peso_rodas_longitudinal(w, k, F, hm, L, brake_ou_accel=\"accel\"):\n",
        "  \"\"\"\n",
        "  Distribuição de peso nas rodas em accel(squat) ou frenagem(dive)\n",
        "\n",
        "  w = peso do carro [N]\n",
        "  k = porcentagem de peso na traseira /100 [adimensional]\n",
        "  F = força de tração ou frenagem máxima suportada pelo pneu [N]\n",
        "  hm = altura do centro de massa [mm]\n",
        "  L = entre eixos [mm]\n",
        "\n",
        "  OUTPUT\n",
        "    Wrr = peso na roda traseira direita\n",
        "    Wrl = peso na roda traseira esquerda\n",
        "    Wfr = peso na roda dianteira direita\n",
        "    Wfl = peso na roda dianteira esquerda\n",
        "  \"\"\"\n",
        "\n",
        "  def transf_longitudinal(F, hm, L):\n",
        "    \"\"\"\n",
        "    Transferencia do peso em squat ou dive\n",
        "\n",
        "    F = força de tração ou frenagem máxima suportada pelo pneu [N]\n",
        "    hm = altura do centro de massa [mm]\n",
        "    T = bitola do carro (track) [mm]\n",
        "    \"\"\"\n",
        "    return (F*hm)/L\n",
        "\n",
        "  Wr = w * k #estático\n",
        "  Wf = w * (1-k) #estático\n",
        "  if brake_ou_accel == 'brake':\n",
        "    dW = - transf_longitudinal(F, hm, L) # transferencia do peso em squat\n",
        "  elif brake_ou_accel == 'accel':\n",
        "    dW = transf_longitudinal(F, hm, L)\n",
        "\n",
        "\n",
        "  Wrr = (Wr + dW)/2\n",
        "  Wrl = Wrr\n",
        "  Wfr = (Wf - dW)/2\n",
        "  Wfl = Wfr\n",
        "\n",
        "  return Wrr, Wrl, Wfr, Wfl\n",
        "\n",
        "F = f_tracao(7350, 1950/3215, 1.5, 325, 3215)\n",
        "peso_rodas_longitudinal(7350, 1950/3215, F, 325, 3215, 'accel') #exemplo derek seward pág. 13"
      ],
      "metadata": {
        "colab": {
          "base_uri": "https://localhost:8080/"
        },
        "id": "SrYaDU92Bj8d",
        "outputId": "b6107b1e-fdfa-47b9-cc1e-726495dfe78f"
      },
      "execution_count": null,
      "outputs": [
        {
          "output_type": "execute_result",
          "data": {
            "text/plain": [
              "(2627.4060494958753, 2627.4060494958753, 1047.593950504125, 1047.593950504125)"
            ]
          },
          "metadata": {},
          "execution_count": 5
        }
      ]
    },
    {
      "cell_type": "code",
      "source": [
        "def torque(Wrr, Wrl, Rr, coef_at):\n",
        "  \"\"\"\n",
        "  Torque máximo suportado pelo pneu [N*m]\n",
        "\n",
        "  Wrr = peso na roda traseira direita [N]\n",
        "  Wrl = peso na roda traseira esquerda [N]\n",
        "  Raio de rolagem = distanância entre raio do pneu deformado e raio do pneu não deformado [mm]\n",
        "  coef_at = coeficiente de atrito do pneu [adimensional]\n",
        "\n",
        "  \"\"\"\n",
        "  t = (Wrr + Wrl) * Rr * coef_at\n",
        "\n",
        "  return t/1000\n",
        "\n",
        "Wr = peso_rodas_longitudinal(7350, 1950/3215, F, 325, 3215)\n",
        "torque(Wr[0], Wr[1], 275, 1.5) #exemplo derek seward pág. 13"
      ],
      "metadata": {
        "colab": {
          "base_uri": "https://localhost:8080/"
        },
        "id": "WTA03HlCD4IN",
        "outputId": "d57387a4-7f91-4ded-b8ab-0ddcaf6f5b05"
      },
      "execution_count": null,
      "outputs": [
        {
          "output_type": "execute_result",
          "data": {
            "text/plain": [
              "2167.6099908340975"
            ]
          },
          "metadata": {},
          "execution_count": 6
        }
      ]
    },
    {
      "cell_type": "code",
      "source": [
        "def acel_max(w, F):\n",
        "  \"\"\"\n",
        "  Aceleração ou desaceleração de reta máxima suportada pelo pneu [g]\n",
        "\n",
        "  F = força de tração máxima suportada pelo pneu [N]\n",
        "  w = peso do carro [N]\n",
        "\n",
        "  \"\"\"\n",
        "  g = 9.81 #[m/s^2]\n",
        "  m = w/g\n",
        "  return F/m/g\n",
        "\n",
        "F = f_tracao(7350, 1950/3215, 1.5, 325, 3215)\n",
        "\n",
        "acel_max(7350, F) #exemplo derek seward pág. 13"
      ],
      "metadata": {
        "colab": {
          "base_uri": "https://localhost:8080/"
        },
        "id": "rgfiqPBDFLU0",
        "outputId": "7b21f9ba-a94a-4c59-ce83-6d0a1fedc56d"
      },
      "execution_count": null,
      "outputs": [
        {
          "output_type": "execute_result",
          "data": {
            "text/plain": [
              "1.072410632447296"
            ]
          },
          "metadata": {},
          "execution_count": 6
        }
      ]
    },
    {
      "cell_type": "markdown",
      "source": [
        "#Brake"
      ],
      "metadata": {
        "id": "llJtIMNlSV-q"
      }
    },
    {
      "cell_type": "code",
      "source": [
        "# Brake energy\n",
        "g = 9.81 # aceleração gravitacional\n",
        "m = 2800 # massa [N]\n",
        "V = 34 # velocidade máxima [m/s] -> 120 km/h = 34m/s\n",
        "K = 1.0 # fator de correção aproximado para massas rotacionais (de acordo com Rudolf Limpert - Brake Desing and Safety p.66)\n",
        "Eb = (K*m*(V**2))/(2*g) # Energia de frenagem [Nm]\n",
        "print(\"Energia de frenagem: {:.2f} J\".format(Eb))\n",
        "\n",
        "# BRAKE POWER\n",
        "a = 15 # (des)aceleração [m/s²]\n",
        "Pbm = ((K * m * a * V) / (2 * g)) # Potência média de frenagem [W]\n",
        "print(\"Potência média de frenagem: {:.2f} W\".format(Pbm))\n",
        "\n",
        "# Cálculo de massa dos discos:\n",
        "\n",
        "#a = float(input(\"Área do disco [mm²]: \")) # área [mm²]\n",
        "#e = float(input(\"Espessura do disco [mm]: \")) # espessura [mm]\n",
        "#d = 8000  #densidade do material #aço 1045: 7870 kg/m³ / aço inox 304: 8000 kg/m³\n",
        "#Md = ((a*e)*10e-9)*d\n",
        "#Mdt = md*4\n",
        "\n",
        "Md =  0.241 # massa [kg], usar apenas a massa da pista do disco de freio (fornecida no inventor)\n",
        "Mtd = Md * 4\n",
        "\n",
        "print(\"Massa de cada disco [Kg]: {:.3f}\".format(Md))\n",
        "print(\"Massa de todos os discos[Kg]: {:.3f}\".format(Mtd))\n",
        "\n",
        "# Temperatura que os discos chegariam:\n",
        "#Mt = float(input('Massa dos discos [Kg]: '))\n",
        "c = 477 # Calor específico do material escolhido [J/Kg.K] # calor específico do aço 1045: 502J/Kg.K\n",
        "Ti = 303 # Temperatura inicial da peça [K]\n",
        "Tm = 400 #int(input('Temperatura de fusão do material [°C]: ')) #temperatura de fusão do aço 1045: 1400°C\n",
        "Tf = (((Eb)/(Mtd*c))+Ti)\n",
        "\n",
        "print('temperatura final [°C]: {:.2f}'.format(Tf-273.15))\n",
        "\n",
        "if (Tf-273.5)>Tm:\n",
        "  print('O sistema não suportará a frenagem!')\n",
        "else:\n",
        "  print('O sistema suportará!')"
      ],
      "metadata": {
        "id": "VPLUyYQabr3j",
        "colab": {
          "base_uri": "https://localhost:8080/"
        },
        "outputId": "a5b40571-a33a-4ab6-b494-67b11c8d91af"
      },
      "execution_count": null,
      "outputs": [
        {
          "output_type": "stream",
          "name": "stdout",
          "text": [
            "Energia de frenagem: 164974.52 J\n",
            "Potência média de frenagem: 72782.87 W\n",
            "Massa de cada disco [Kg]: 0.241\n",
            "Massa de todos os discos[Kg]: 0.964\n",
            "temperatura final [°C]: 388.62\n",
            "O sistema suportará!\n"
          ]
        }
      ]
    },
    {
      "cell_type": "code",
      "source": [
        "Mt = 2800 # Massa total = 2800 N\n",
        "EE = 1600 # Entre eixos = 1560 mm\n",
        "Cm_Ed = 1000 # Centro de massa até eixo dianteiro = 1000 mm\n",
        "ACm = 215 # Altura centro de massa = 215 mm\n",
        "Dm = 15 # Desaceleração máxima pretendida = 15 m/s²\n",
        "\n",
        "# Massa dinâmica\n",
        "Wr = (Mt * Cm_Ed)/EE # Weight rear = (Mass * Distance from front wheel to center of mass) / wheel base\n",
        "Wf = Mt - Wr\n",
        "print(\"Massa estática dianteira [N]: {:.2f}\".format(Wf), \"=> {:.2f} %\".format(Wf/28))\n",
        "print(\"Massa estática traseira [N]: {:.2f}\".format(Wr), \"=> {:.2f} %\".format(Wr/28))\n",
        "\n",
        "#Força de Frenagem\n",
        "Fb = Mt * (Dm/10)\n",
        "\n",
        "#Transferência longitudinal de massa\n",
        "Tlm = (Fb * ACm)/EE\n",
        "print(\"Balanço dinâmico [N]: ± {:.2f}\". format(Tlm))\n",
        "\n",
        "#Balanço dinâmico por eixo\n",
        "Bdf = (Wf + Tlm)/2\n",
        "Bdr = (Wr - Tlm)/2\n",
        "print(\"Massa dinâmica por roda na dianteira [N]: {:.2f}\".format(Bdf), \"=> {:.2f} %\".format(Bdf/14))\n",
        "print(\"Massa dinâmica por roda na traseira [N]: {:.2f}\".format(Bdr), \"=> {:.2f} %\".format(Bdr/14))\n",
        "\n",
        "#Força de frenagem\n",
        "Ffd = Bdf * Dm/10\n",
        "Fft = Bdr * Dm/10\n",
        "#print(Ffd)\n",
        "#Torque de frenagem\n",
        "Tfd = (Ffd * ((19.2*25.4)/2)) # diâmetro externo de um pneu aro 10\" da hoosier é 16\" e da AG pneus é 19.2\"\n",
        "Tft = (Fft * ((19.2*25.4)/2))\n",
        "print(\"Torque de frenagem a ser alcançado [Nmm]: {:.2f}\".format(Tfd))\n",
        "print(\"Torque de frenagem a ser alcançado [Nmm]: {:.2f}\".format(Tft))\n",
        "\n",
        "# Razão de forças do pedal\n",
        "D1 = 200 #float(input('D1 [mm]: ')) #medida do ponto de aplicação da força do piloto até o eixo de rotação do pedal\n",
        "D2 = 40 #float(input('D2 [mm]: ')) # medida do ponto de fixação do cilindro mestre até o ponto de rotação do pedal\n",
        "R = D1/D2\n",
        "print(\"A razão do pedal é:\",R)\n",
        "\n",
        "# Força necessária exercida no pedal\n",
        "import math\n",
        "Ps = 7 # Pressão do sistema não pode passar de 7 N/mm² (70 bar)\n",
        "dmc = 14 # diâmetro do embolo dos cilindros mestre\n",
        "MCa = math.pi*((dmc/2)**2) #[mm²]\n",
        "Fmc = Ps * MCa #[N/mm²]\n",
        "Fp = Fmc/R # Força do piloto (não deve passar de 500N) [N] # R é a razão de forças do pedal\n",
        "print(\"Força mínima no pedal [N]: {:.2f}\".format(Fp))\n",
        "\n",
        "# Força de \"mordida\" da pinça\n",
        "import math\n",
        "dp = 31.5 # diametro do embolo da pinça [mm]\n",
        "Ap = math.pi*((dp/2)**2) # area do embolo da pinça [mm²]\n",
        "Fmp = Ps * Ap # força de mordida [N]\n",
        "print('Força de mordida da pinça [N]: {:.2f}'.format(Fmp))\n",
        "\n",
        "# Raio efetivo do disco\n",
        "μp = 0.4 #coeficiente de atrito da pastilha [admensional]\n",
        "Red = Tfd/(2*Fmp*μp)\n",
        "Ret = Tft/(2*Fmp*μp)\n",
        "print(\"Raio efetivo do disco dianteiro [mm]: {:.2f}\".format(Red))\n",
        "print(\"Raio efetivo do disco traseiro [mm]: {:.2f}\".format(Ret))\n",
        "\n",
        "# Volume deslocado de fluido\n",
        "de = 2\n",
        "dp = 15\n",
        "Vmc = MCa * dp\n",
        "Vp = Ap * de\n",
        "if Vmc>Vp:\n",
        "  print('Desloca fluido suficiente!')\n",
        "else:\n",
        "  print('Quantidade de fluido não suficiente!')\n",
        "print('Volume do cilindro mestre [mm³]: {:.2f}'.format(Vmc))\n",
        "print('Volume da pinça [mm³]: {:.2f}'.format(Vp))\n",
        "print(MCa)\n",
        "print(Ap)\n",
        "print(Ap/MCa)"
      ],
      "metadata": {
        "id": "AggX2QlPW82O",
        "colab": {
          "base_uri": "https://localhost:8080/"
        },
        "outputId": "2a768755-3832-4269-f965-bdd02555b74d"
      },
      "execution_count": null,
      "outputs": [
        {
          "output_type": "stream",
          "name": "stdout",
          "text": [
            "Massa estática dianteira [N]: 1050.00 => 37.50 %\n",
            "Massa estática traseira [N]: 1750.00 => 62.50 %\n",
            "Balanço dinâmico [N]: ± 564.38\n",
            "Massa dinâmica por roda na dianteira [N]: 807.19 => 57.66 %\n",
            "Massa dinâmica por roda na traseira [N]: 592.81 => 42.34 %\n",
            "Torque de frenagem a ser alcançado [Nmm]: 295236.90\n",
            "Torque de frenagem a ser alcançado [Nmm]: 216827.10\n",
            "A razão do pedal é: 5.0\n",
            "Força mínima no pedal [N]: 215.51\n",
            "Força de mordida da pinça [N]: 5455.18\n",
            "Raio efetivo do disco dianteiro [mm]: 67.65\n",
            "Raio efetivo do disco traseiro [mm]: 49.68\n",
            "Desloca fluido suficiente!\n",
            "Volume do cilindro mestre [mm³]: 2309.07\n",
            "Volume da pinça [mm³]: 1558.62\n",
            "153.93804002589985\n",
            "779.311327631118\n",
            "5.0625\n"
          ]
        }
      ]
    },
    {
      "cell_type": "code",
      "source": [
        "#Estudo analítico termodinâmico dos discos de freio: G. Cunha\n",
        "import math\n",
        "\n",
        "# Potência de frenagem: pág.27\n",
        "μp #coeficiente de atrito da pastilha\n",
        "lp = 0.040 # Largura da pastilha [mm]\n",
        "B = 1 # relação de distribuição entre os CM\n",
        "R # relação de multiplicação do pedal\n",
        "Fp # Força de acionamento do pedal\n",
        "Ap # área do pistão da pinça de freio\n",
        "MCa # área do pistão do CM\n",
        "Rd = 0.060 # raio efetivo do disco dianteiro [m]\n",
        "ω = V/Rd # velociade angular do disco\n",
        "PotFr = (2*μp*B*R*Fp)*(Ap/MCa)*(Rd - (lp/2))*ω\n",
        "print(\"Potência de frenagem [W]: {:.2f}\".format(PotFr))\n",
        "\n",
        "###########################################################\n",
        "\n",
        "# Número de Reynolds: pg.39\n",
        "Rd = 0.060 # Raio efetivo do disco de freio [m]\n",
        "υ = 1.562 * (10**-5) # viscosidade cinemática do ar à 25°C e 1.0 atm [m²/s]\n",
        "Re = (ω*(Rd**2))/υ\n",
        "print(\"Número de Reynolds [adimensional]: {:.2f}\".format(Re))\n",
        "\n",
        "###########################################################\n",
        "\n",
        "# Dimensão característica de Nusselt: pg.40\n",
        "#Nu = (0.0149*(Re**0.8))\n",
        "Pr = 2.5548 # informação tirada da tabela da usp (https://sistemas.eel.usp.br/docentes/arquivos/5817712/TDQ%20I/termo%2018a.pdf)\n",
        "Nu = (0.0308)*(Re**0.8)*(Pr**(1/3))\n",
        "print(\"Valor de Nusselt [adimensional]: {:.2f}\".format(Nu))\n",
        "\n",
        "###########################################################\n",
        "\n",
        "# Coeficiente de transferência de calor médio: pg.40\n",
        "k_ar = 0.026 # condutividade térmica do ar [W/m*K] à 25°C e 1.0 atm\n",
        "h = ((k_ar/Rd)*0.0149)*(((ω*(Rd**2))/υ)**0.8)\n",
        "print(\"Coeficiente de transferência de calor médio [W/m².K]: {:.2f}\".format(h))\n",
        "\n",
        "###########################################################\n",
        "\n",
        "# Volume do volume de controle: pg. 36\n",
        "δ = 0.004 # espessura do disco de freio [m]\n",
        "Δθ = 36 # variação angular do controle [°] (360°/10)\n",
        "ΔRd = 0.030 # variação do raio no controle [m]\n",
        "Vvc = Rd * ΔRd * Δθ * δ\n",
        "print(\"Volume do volume de controle [m³]: {:.7f}\".format(Vvc))\n",
        "\n",
        "###########################################################\n",
        "\n",
        "# Área do volume de controle: pg. 36\n",
        "Δθ # variação angular do controle [°] (360°/10)\n",
        "ΔRd # variação do raio no controle [m]\n",
        "Avc = Rd * ΔRd * Δθ\n",
        "print(\"Área do volume de controle [m²]: {:.2f}\".format(Avc))\n",
        "\n",
        "###########################################################\n",
        "\n",
        "# Número de Biot: pg.35\n",
        "h # coeficiente de transferência de calor médio\n",
        "Vvc # volume do volume de controle\n",
        "Avc # área do volume de controle\n",
        "k = 17 # condutividade térmica do material do disco [W/m.K]\n",
        "Bi = (h*(Vvc/Avc))/k # o valor deve ser menor que 0.1 para que possamos desconsiderar a alteração irregular de temperatura no interiror do disco\n",
        "print(\"Número de Biot [adimensional]: {:.3f}\".format(Bi))\n",
        "\n",
        "############################################################\n",
        "\n",
        "# Distância de frenagem: pág.41\n",
        "μps = 1.5 #coeficiente de atrito do pneu com o solo\n",
        "ΔS = (V**2)/(2*g*μps)\n",
        "print(\"Distância de frenagem [m]: {:.2f}\".format(ΔS))\n",
        "\n",
        "############################################################\n",
        "\n",
        "# Distância percorrida por rotação do disco: pág. 42\n",
        "D = 487.68 #Diâmetro do pneu da AG em mm (em polegadas da 19.2)\n",
        "l = math.pi*(D/1000) #eq. 45\n",
        "print(\"Distância percorrida por rotação do disco [m]: {:.2f}\".format(l))\n",
        "\n",
        "#############################################################\n",
        "\n",
        "# Número de rotações no período da frenagem: pág. 42 eq. 46\n",
        "N = ΔS/l\n",
        "print(\"Número de rotações no período da frenagem: {:.2f}\".format(N))\n",
        "\n",
        "##############################################################\n",
        "\n",
        "# Tempo de frenagem: pág. 43 eq. 47\n",
        "Tfr = (V)/(g*μps)\n",
        "print(\"Tempo de frenagem [s]: {:.2f}\".format(Tfr))\n",
        "\n",
        "###############################################################\n",
        "\n",
        "# Tempo de uma rotação do disco: pág. 43 eq.48\n",
        "Trot = Tfr/N\n",
        "print(\"Tempo de uma rotação do disco [s]: {:.4f}\".format(Trot))\n",
        "\n",
        "###############################################################\n",
        "\n",
        "# Temperatura do disco:\n",
        "# MATERIAL DO DISCO DE FREIO: aço inox 410\n",
        "Cp = 477 # calor específico do disco de freio [J/kg.K]\n",
        "β = 1 # constante para troca térmica [adimensional]  ------------------ pode ser 0 ou 1 (qunado é 0 não tem atrito, quando é 1 tem)\n",
        "ρ = 7870 # densidade do material do disco [kg/m³]\n",
        "δ # espessura do disco de freio [m]\n",
        "ε = 0.07 # emissividade térmica do aço polido à 100°C [adimensional]\n",
        "h # coeficiente de transferência de calor médio [W/m*K]\n",
        "Tamb = 300 # Temperatura ambiente [K]\n",
        "Fi_ii = 0.5 # Fator de forma [adimensional]\n",
        "σ = 5.67*(10**-8) # Constante de Stefan-Boltzman [W/m².K⁴]\n",
        "\n",
        "\n",
        "Avc1 = Rd * Δθ * δ # Área do volume de controle 1\n",
        "Avc2 = ΔRd * δ # Área do volume de controle 2\n",
        "Avc3 = Rd * ΔRd * Δθ # Área do volume de controle 3\n",
        "Vvc = Rd * ΔRd * Δθ * δ # Volume do volume de controle\n",
        "\n",
        "\n",
        "# Temperatura da faixa interna (raio menor)\n",
        "\n",
        "a1 = ((-(2*k*Avc2)/Rd*Δθ)-((k*Avc1)/ΔRd)-(h*Avc3)+((Vvc*ρ*Cp)/ Trot)) / ((Vvc*ρ*Cp)/ Trot)\n",
        "b1 = (((k*Avc2)/(Rd*Δθ)) / ((Vvc*ρ*Cp) / Trot))\n",
        "c1 = ((k*Avc1)/ΔRd)/((Vvc*ρ*Cp)/(Trot))\n",
        "d1 = (-(Fi_ii * ε * σ * Avc3) / ((Vvc * ρ * Cp) / Trot))\n",
        "e1 = ((h*Avc3*Tamb)+(Fi_ii*ε*σ*Avc3*(Tamb**4))) / ((Vvc*ρ*Cp)/Trot)\n",
        "\n",
        "T1_j_m = 303\n",
        "T1_j0_m = 303\n",
        "T1_j1_m = 303\n",
        "T2_j_m = 303\n",
        "cont1 = 0\n",
        "while cont1 < N:\n",
        "\n",
        "  T1_j_m1 = (a1*T1_j_m) + (b1*(T1_j0_m + T1_j1_m)) + (c1 * T2_j_m) + (d1*(T1_j_m)**4) + e1\n",
        "\n",
        "  T2jm = T1_j_m1\n",
        "  T2j0m = T1_j_m1\n",
        "  T2j1m = T1_j_m1\n",
        "  T1jm = T1_j_m1\n",
        "  T2jm = T1_j_m1\n",
        "\n",
        "  cont1 += 1\n",
        "  #print(T1_j_m1-273.15)\n",
        "print(\"Temperatura da faixa interna (raio menor) [°C] = {:.2f}\".format(T1_j_m1 - 273.15))\n",
        "\n",
        "\n",
        "# Temperatura faixa externa (raio maior)\n",
        "\n",
        "a2 = ((-(2*k*Avc2)/ (Rd*Δθ)) - ((k*Avc1) / ΔRd) - (h*Avc3*(1-β)) + ((Vvc*ρ*Cp)/ Trot))/ ((Vvc*ρ*Cp)/ Trot)\n",
        "b2 = ((k*Avc2)/(Rd*Δθ))/ ((Vvc*ρ*Cp / Trot))\n",
        "c2 = (((k*Avc1)/ ΔRd))/ ((Vvc*ρ*Cp)/ (Trot))\n",
        "d2 = (-(Fi_ii * ε * δ * Avc3) * (Trot * (1-β))) / (Vvc * ρ * Cp)\n",
        "e2 = ((h * Avc3 * Tamb) + (Fi_ii * ε * Vvc * (Tamb)**4) * (1-β) + PotFr*β) / ((Vvc * ρ * Cp) / Trot)\n",
        "\n",
        "# Fórmula temperatura para a faixa externa (Tfe = T2jm+1)\n",
        "\n",
        "T2jm = 303\n",
        "T2j0m = 303\n",
        "T2j1m = 303\n",
        "T1jm = 303\n",
        "T2jm = 303\n",
        "cont2 = 0\n",
        "while cont2 < N:\n",
        "\n",
        "  Tfe = (a2 * T2jm) + (b2 * (T2j0m + T2j1m)) + (c1 * T1jm) + (d2 * T2jm)**4 + e2\n",
        "\n",
        "  T2jm = Tfe\n",
        "  T2j0m = Tfe\n",
        "  T2j1m = Tfe\n",
        "  T1jm = Tfe\n",
        "  T2jm = Tfe\n",
        "\n",
        "  cont2 += 1\n",
        "  #print(\"Rotação\",cont2,\"→\",\"{:.2f}°C\".format(Tfe - 273.15))\n",
        "  #print(Tfe)\n",
        "print('Temperatura da faixa externa (raio maior) [°C] = {:.2f}'.format(Tfe - 273.15))\n",
        "\n",
        "# Fluxo máximo permitido e real: pág. 28 eq. 7\n",
        "\n",
        "qmax_ = (0.0288*(439 - (0.46 * 310)))/ δ\n",
        "print('Fluxo de calor permitido [W/m²] = {:.2f}'.format(qmax_))\n",
        "\n",
        "qreal_ = (0.0288*(439 - (0.46 * (Tfe-273.15))))/ δ # ta errado aidna (precisa reduzir a area varrida para 65% do total)\n",
        "#print('Fluxo de calor real [W/m²] = {:.2f}'.format(qreal_))"
      ],
      "metadata": {
        "id": "sar1V5lFhKcN",
        "colab": {
          "base_uri": "https://localhost:8080/"
        },
        "outputId": "3934a252-fe10-4352-a264-c74939328261"
      },
      "execution_count": null,
      "outputs": [
        {
          "output_type": "stream",
          "name": "stdout",
          "text": [
            "Potência de frenagem [W]: 98920.58\n",
            "Número de Reynolds [adimensional]: 130601.79\n",
            "Valor de Nusselt [adimensional]: 521.31\n",
            "Coeficiente de transferência de calor médio [W/m².K]: 79.94\n",
            "Volume do volume de controle [m³]: 0.0002592\n",
            "Área do volume de controle [m²]: 0.06\n",
            "Número de Biot [adimensional]: 0.019\n",
            "Distância de frenagem [m]: 39.28\n",
            "Distância percorrida por rotação do disco [m]: 1.53\n",
            "Número de rotações no período da frenagem: 25.64\n",
            "Tempo de frenagem [s]: 2.31\n",
            "Tempo de uma rotação do disco [s]: 0.0901\n",
            "Temperatura da faixa interna (raio menor) [°C] = 29.78\n",
            "Temperatura da faixa externa (raio maior) [°C] = 271.81\n",
            "Fluxo de calor permitido [W/m²] = 2134.08\n"
          ]
        }
      ]
    },
    {
      "cell_type": "markdown",
      "source": [
        "![Temperatura máxima por rotação.png](data:image/png;base64,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)"
      ],
      "metadata": {
        "id": "MGRCT3e1cDpW"
      }
    },
    {
      "cell_type": "code",
      "source": [
        "# Potência de Frenagem por velocidade\n",
        "import math\n",
        "\n",
        "# Potência de frenagem: pág.27\n",
        "μp #coeficiente de atrito da pastilha\n",
        "lp = 0.040 # Largura da pastilha [mm]\n",
        "B = 1 # relação de distribuição entre os CM\n",
        "R # relação de multiplicação do pedal\n",
        "Fp # Força de acionamento do pedal\n",
        "Ap # área do pistão da pinça de freio\n",
        "MCa # área do pistão do CM\n",
        "Rd = 0.060 # raio efetivo do disco dianteiro [m]\n",
        "a = 15\n",
        "V0 = 34\n",
        "ω = V0/Rd\n",
        "PotFr = (2*μp*B*R*Fp)*(Ap/MCa)*(Rd - (lp/2))*ω\n",
        "print(PotFr*0.35)\n",
        "cont = 0\n",
        "while V0 > 0:\n",
        "  V0 -= 1.26\n",
        "  cont += 1\n",
        "  #print (V0)\n",
        "  ω = V0/Rd # velociade angular do disco\n",
        "  PotFr = (2*μp*B*R*Fp)*(Ap/MCa)*(Rd - (lp/2))*ω\n",
        "  print(PotFr*0.35)\n",
        "print(cont)"
      ],
      "metadata": {
        "colab": {
          "base_uri": "https://localhost:8080/"
        },
        "id": "GWFWZPsLmoF0",
        "outputId": "bb2439b1-45d4-4302-b001-3077cb29445f"
      },
      "execution_count": null,
      "outputs": [
        {
          "output_type": "stream",
          "name": "stdout",
          "text": [
            "34622.204582225124\n",
            "33339.146412413254\n",
            "32056.08824260138\n",
            "30773.030072789512\n",
            "29489.97190297763\n",
            "28206.913733165762\n",
            "26923.855563353885\n",
            "25640.797393542012\n",
            "24357.73922373014\n",
            "23074.681053918266\n",
            "21791.62288410639\n",
            "20508.564714294516\n",
            "19225.50654448264\n",
            "17942.448374670766\n",
            "16659.390204858893\n",
            "15376.332035047022\n",
            "14093.27386523515\n",
            "12810.215695423278\n",
            "11527.157525611407\n",
            "10244.099355799533\n",
            "8961.041185987662\n",
            "7677.983016175789\n",
            "6394.924846363917\n",
            "5111.866676552046\n",
            "3828.808506740174\n",
            "2545.7503369283017\n",
            "1262.6921671164296\n",
            "-20.36600269544284\n",
            "27\n"
          ]
        }
      ]
    },
    {
      "cell_type": "code",
      "source": [
        "# Pressão do sistema [N/mm²] durante o teste dos 2000N\n",
        "import math\n",
        "# Razão de forças do pedal\n",
        "D1 = 200 #float(input('D1 [mm]: ')) #medida do ponto de aplicação da força do piloto até o eixo de rotação do pedal\n",
        "D2 = 40 #float(input('D2 [mm]: ')) # medida do ponto de fixação do cilindro mestre até o ponto de rotação do pedal\n",
        "R = D1/D2\n",
        "\n",
        "Ft = 2000 # Força de teste [N]\n",
        "Fmc = Ft * R # R é a razão de forças do pedal\n",
        "#print('{:.2f}'.format(Fmc))\n",
        "\n",
        "dmc = 14 #float(input(\"d [mm]: \")) # diâmetro do embolo dos cilindros mestre\n",
        "MCa = math.pi*((dmc/2)**2) #[mm²]\n",
        "#print('{:.2f}'.format(MCa))\n",
        "\n",
        "#calculo da pressão no sistema\n",
        "Ps = Fmc/MCa #[N/mm²]\n",
        "print('Pressão no teste dos 2000N [bar]: {:.2f} '.format(Ps*10))\n",
        "\n",
        "# Pressão do sistema durante aplicação de força suficiente para o travamento das rodas do véiculo\n",
        "Fmc = Fp * R\n",
        "Psu = Fmc/MCa\n",
        "\n",
        "print('Pressão de utilização [bar]: {:.2f} '.format(Psu*10))"
      ],
      "metadata": {
        "colab": {
          "base_uri": "https://localhost:8080/"
        },
        "id": "ECyxsNqTFVlw",
        "outputId": "770ff601-fee1-422e-d5cc-ed7e7470f8f9"
      },
      "execution_count": null,
      "outputs": [
        {
          "output_type": "stream",
          "name": "stdout",
          "text": [
            "Pressão no teste dos 2000N [bar]: 649.61 \n",
            "Pressão de utilização [bar]: 70.00 \n"
          ]
        }
      ]
    },
    {
      "cell_type": "code",
      "source": [
        "# Torque inercial pelo limpert\n",
        "\n",
        "M = 280 #float(input(\"Massa do veículo [kg]: \")) # 320kg\n",
        "g = 10\n",
        "Dp = 0.5657 #percentual de tranferencia de peso dianteira\n",
        "μPA = 1.5 #float(input(\"Coeficiente de Atrito do pneu com asfalto: \")) #1.5\n",
        "Aro = 19.2 #float(input(\"Aro externo do pneu [in]: \")) # 16\" para uma roda 10\"\n",
        "\n",
        "Ti = (((M*g)*Dp)/2)*(((Aro*25.4)/2)/1000)*(μPA)\n",
        "print(\"Torque Inercial por roda dianteira [Nm]: {:.2f}\".format(Ti))"
      ],
      "metadata": {
        "colab": {
          "base_uri": "https://localhost:8080/"
        },
        "id": "PgpdH3nb2RXO",
        "outputId": "7952edc6-0fab-4d51-def5-526dffa4ce96"
      },
      "execution_count": null,
      "outputs": [
        {
          "output_type": "stream",
          "name": "stdout",
          "text": [
            "Torque Inercial por roda dianteira [Nm]: 289.67\n"
          ]
        }
      ]
    },
    {
      "cell_type": "code",
      "source": [
        "import matplotlib.pyplot as plt\n",
        "import numpy as np\n",
        "\n",
        "def plot_circle(center, radius, color='b', alpha=0.5):\n",
        "    circle = plt.Circle(center, radius, color=color, alpha=alpha)\n",
        "    plt.gca().add_patch(circle)\n",
        "\n",
        "# Defina os parâmetros dos círculos\n",
        "def plot_circles():\n",
        "   center1 = ( 2*66.38, 0) # embolo da pinça\n",
        "   radius1 = 2*dp\n",
        "\n",
        "   plot_circle(center1, radius1, color='green')\n",
        "\n",
        "# Chame a função para plotar os círculos\n",
        "plot_circles()\n",
        "\n",
        "# Círculo externo\n",
        "theta = np.linspace(0, 2*np.pi, 100)\n",
        "outer_radius = 2*Red + 30\n",
        "x_outer = outer_radius * np.cos(theta)\n",
        "y_outer = outer_radius * np.sin(theta)\n",
        "\n",
        "# Circulo médio\n",
        "middle_radius = 2*Red\n",
        "x_middle = middle_radius * np.cos(theta)\n",
        "y_middle = middle_radius * np.sin(theta)\n",
        "\n",
        "# Círculo interno\n",
        "inner_radius = 2*Red - 30\n",
        "x_inner = inner_radius * np.cos(theta)\n",
        "y_inner = inner_radius * np.sin(theta)\n",
        "\n",
        "# Plotar os círculos\n",
        "plt.plot(x_outer, y_outer, label='Diâmetro Externo', color='black')\n",
        "plt.plot(x_middle, y_middle, label='Diâmetro Efetivo', color='red')\n",
        "plt.plot(x_inner, y_inner, label='Diâmetro Interno', color='black')\n",
        "\n",
        "# Configurações adicionais\n",
        "plt.axis('equal')  # Manter a proporção dos eixos igual\n",
        "plt.title('Disco de freio')\n",
        "plt.legend()  # Adicionar legenda\n",
        "\n",
        "# Mostrar o gráfico\n",
        "plt.show()\n"
      ],
      "metadata": {
        "colab": {
          "base_uri": "https://localhost:8080/",
          "height": 452
        },
        "id": "31HTflodr5DQ",
        "outputId": "6f4c1b07-1afc-49ab-bb22-f517d00ade84"
      },
      "execution_count": null,
      "outputs": [
        {
          "output_type": "display_data",
          "data": {
            "text/plain": [
              "<Figure size 640x480 with 1 Axes>"
            ],
            "image/png": "[encoded data removed]"
          },
          "metadata": {}
        }
      ]
    },
    {
      "cell_type": "code",
      "source": [
        "# Pistão ficticio para base de calcúlos quando há 2 pistões paralelos p.56 - rudolf limpert 'brake desing and safety'\n",
        "d1 = float(input(\"d1: \"))\n",
        "d2 = float(input(\"d2: \"))\n",
        "d3 = ((d1**2) + (d2**2))**(1/2)\n",
        "\n",
        "print(d3)"
      ],
      "metadata": {
        "id": "wWGLlN6bw5SJ"
      },
      "execution_count": null,
      "outputs": []
    },
    {
      "cell_type": "code",
      "source": [
        "# BRAKE FACTOR para freios a disco (BF) [adimensional] - rudolf limpert 'brake design and safety'\n",
        "\n",
        "μp = float(input('μp: ')) #coeficiente de atrito da pastilha [admensional]\n",
        "#Fd = (μp*Fa)/Fa # força de arrasto do disco [N]\n",
        "BF = (2*μp*Fmp)/Fmp\n",
        "\n",
        "print(BF)"
      ],
      "metadata": {
        "id": "9ICsPwEqMVf3",
        "colab": {
          "base_uri": "https://localhost:8080/"
        },
        "outputId": "3d3e9a90-0b81-4f49-f73c-aec915f37965"
      },
      "execution_count": null,
      "outputs": [
        {
          "output_type": "stream",
          "name": "stdout",
          "text": [
            "μp: 0.45\n",
            "0.9\n"
          ]
        }
      ]
    },
    {
      "cell_type": "code",
      "source": [
        "# Força máxima aplicável à uma pastlha do tipo 'hammerhead' sem distorção da pressão sobre o disco, [N] - rudolf limpert 'brake design and safety'\n",
        "Fa = float(input()) #força aplicada contra a pastilha, [N]\n",
        "Lp = float(input()) #Altura da pastilha, [mm]\n",
        "Ep = float(input()) #Espessura da pastillha, [mm]\n",
        "b = float(input()) # medida do centro até a extremidade superior da base da pastilha, [mm]\n",
        "Fmax = Fa*(1+((6/Lp)*((μp*Ep)-(μp*b))))\n",
        "\n",
        "print(Fmax)"
      ],
      "metadata": {
        "id": "ufekly-vNImb"
      },
      "execution_count": null,
      "outputs": []
    }
  ]
}