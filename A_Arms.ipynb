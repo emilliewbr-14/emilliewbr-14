{
  "nbformat": 4,
  "nbformat_minor": 0,
  "metadata": {
    "colab": {
      "provenance": [],
      "toc_visible": true,
      "include_colab_link": true
    },
    "kernelspec": {
      "name": "python3",
      "display_name": "Python 3"
    },
    "language_info": {
      "name": "python"
    }
  },
  "cells": [
    {
      "cell_type": "markdown",
      "metadata": {
        "id": "view-in-github",
        "colab_type": "text"
      },
      "source": [
        "<a href=\"https://colab.research.google.com/github/emilliewbr-14/emilliewbr-14/blob/main/A_Arms.ipynb\" target=\"_parent\"><img src=\"https://colab.research.google.com/assets/colab-badge.svg\" alt=\"Open In Colab\"/></a>"
      ]
    },
    {
      "cell_type": "markdown",
      "source": [
        "#***Inputs***"
      ],
      "metadata": {
        "id": "Uo1q5Q1eW5yt"
      }
    },
    {
      "cell_type": "code",
      "source": [
        "Percent_Rear = 0.641\n",
        "Percent_Front = 1 - Percent_Rear\n",
        "Massa_Suspensa = 280\n",
        "Massa_NSuspensa = 35\n",
        "Massa = Massa_Suspensa + Massa_NSuspensa #conferir valores\n",
        "g = 9.8\n",
        "Wt = Percent_Rear*Massa_Suspensa*g\n",
        "Wd = Percent_Front*Massa_Suspensa*g\n",
        "PRod_Dianteiro_Angulo = 52\n",
        "PRod_Traseiro_Angulo = 45\n",
        "Entre_Eixos = 1600\n",
        "cross_sectional_area = 1 #definir valor\n",
        "max_accel = 1.2042270058708415\n",
        "max_brake = 4414.5 #conferir valor"
      ],
      "metadata": {
        "id": "i51cgL1pqrg9"
      },
      "execution_count": null,
      "outputs": []
    },
    {
      "cell_type": "code",
      "source": [
        "AA_FU_length = 250.279\n",
        "AA_FL_length = 231.538\n",
        "AA_RU_length = 301.131\n",
        "AA_RL_length = 333.682\n",
        "AA_FP_length = 272.628 #definir valor\n",
        "AA_RP_length = 172.345 #definir valor\n",
        "\n",
        "AA_FU_theta = 1 #definir valor\n",
        "AA_FL_theta = 1 #definir valor\n",
        "AA_RU_theta = 1 #definir valor\n",
        "AA_RL_theta = 1 #definir valor\n",
        "AA_FP_theta = 45\n",
        "AA_RP_theta = 35"
      ],
      "metadata": {
        "id": "j8JQA0fh_GJF"
      },
      "execution_count": null,
      "outputs": []
    },
    {
      "cell_type": "markdown",
      "source": [
        "# ***Factor of Safety***"
      ],
      "metadata": {
        "id": "9eV8JQ0QHtbt"
      }
    },
    {
      "cell_type": "code",
      "source": [
        "#FOS calculations\n",
        "\n",
        "def FOS(MaxStress, WorkingStress):\n",
        "  '''Inputs:\n",
        "  MaxStress = How much force the point can handle (in Newtons)\n",
        "  WorkingStress = Sum of all forces working on the Maximum stress point (in Newtons)\n",
        "    Outputs:\n",
        "  FOS = factor of safety (capacity * demand**-1) != margin of safety (FOS - 1)\n",
        "  '''\n",
        "  FOS = float(MaxStress / WorkingStress)\n",
        "  return FOS"
      ],
      "metadata": {
        "id": "PHgNuBvpflUL"
      },
      "execution_count": null,
      "outputs": []
    },
    {
      "cell_type": "code",
      "source": [
        "FOS = FOS(27895, 531.4)\n",
        "FOS"
      ],
      "metadata": {
        "colab": {
          "base_uri": "https://localhost:8080/"
        },
        "id": "6kQAq4u-hp_J",
        "outputId": "1c1cb349-2762-4bd1-bc4d-9df1a9915157"
      },
      "execution_count": null,
      "outputs": [
        {
          "output_type": "execute_result",
          "data": {
            "text/plain": [
              "52.49341362438841"
            ]
          },
          "metadata": {},
          "execution_count": 21
        }
      ]
    },
    {
      "cell_type": "markdown",
      "source": [
        "# ***Stationary Case***"
      ],
      "metadata": {
        "id": "sPu5UM0AH9Km"
      }
    },
    {
      "cell_type": "code",
      "execution_count": null,
      "metadata": {
        "id": "tg9n7TAtNxdi"
      },
      "outputs": [],
      "source": [
        "#Cálculo do esforço dos braços da suspensão:\n",
        "\n",
        "import math\n",
        "def Fpushrod(Wvert, theta):\n",
        "  '''Inputs:\n",
        "  Fpushrod = forces that act on the pushrod (sum of external and internal vectors) (in Newtons)\n",
        "  Wvert = maximal weight being applied on the vertical axis of the pushrod = vertical load (in Newtons)\n",
        "  theta = angle between the pushrod and the ground-plane (in degrees)\n",
        "    Outputs:\n",
        "  Fpushrod = forces that act on the pushrod (sum of external and internal vectors) (in Newtons)\n",
        "  '''\n",
        "  Fpushrod = float(Wvert / (math.sin(math.radians(theta))))\n",
        "  return Fpushrod"
      ]
    },
    {
      "cell_type": "code",
      "source": [
        "import math\n",
        "def Fpushrod(HorizontalPushrod, theta):\n",
        "  '''Inputs:\n",
        "  HorizontalPushrod = horizontal component (in Newtons)\n",
        "  theta = angle between the pushrod and the ground-plane (in degrees)\n",
        "    Outputs:\n",
        "    Fpushrod = forces that act on the pushrod (sum of external and internal vectors) (in Newtons)\n",
        "  '''\n",
        "  Fpushrod = HorizontalPushrod / (math.cos(math.radians(theta)))\n",
        "  return Fpushrod"
      ],
      "metadata": {
        "id": "cE1fDh9XU9ie"
      },
      "execution_count": null,
      "outputs": []
    },
    {
      "cell_type": "code",
      "source": [
        "AA_St_RP = Fpushrod(Wt, PRod_Traseiro_Angulo)\n",
        "AA_St_FP = Fpushrod(Wd, PRod_Dianteiro_Angulo)\n",
        "print(AA_St_RP)\n",
        "print(AA_St_FP)"
      ],
      "metadata": {
        "id": "pjkUd_2upLQj",
        "colab": {
          "base_uri": "https://localhost:8080/"
        },
        "outputId": "65246069-1dfc-46f6-bd46-e2c4886364d3"
      },
      "execution_count": null,
      "outputs": [
        {
          "output_type": "stream",
          "name": "stdout",
          "text": [
            "2487.4658917122865\n",
            "1600.0611366480691\n"
          ]
        }
      ]
    },
    {
      "cell_type": "code",
      "source": [
        "#Calculating Stress on A-arms\n",
        "import math\n",
        "def FHorizontal(Massa, g, AA_length, theta):\n",
        "  '''Inputs:\n",
        "  Massa = massa do carro sendo aplicada sobre o A-arm (Kg)\n",
        "  g = gravidade (m/s^2)\n",
        "  AA_length = comprimento do A-arm (m)\n",
        "  theta = angulo entre o A-arm e plano normal\n",
        "    Outputs:\n",
        "  FHorizontal = força sendo aplicada horizontalmente no A-arm (reflexo do peso) (N)\n",
        "  '''\n",
        "  FHorizontal = float((Massa * g) * (AA_length * (1/theta)))\n",
        "  return FHorizontal\n",
        "\n",
        "def FArm(Massa, g, AA_length, theta):\n",
        "  '''Inputs:\n",
        "  FHorizontal = maximal weight being applied on the horizontal axis of the pushrod = horizontal load (in Newtons)\n",
        "  theta = angle between the A-arm and the ground-plane (in degrees)\n",
        "    Outputs:\n",
        "  FArm = forces that act on the A-arm (sum of external and internal vectors) (in Newtons)\n",
        "  '''\n",
        "  FArm = float(((Massa * g) * (AA_length * (1/theta))) / (math.cos(math.radians(theta))))\n",
        "  return FArm\n",
        "\n",
        "def stress_AA(FArm, AA_length, theta):\n",
        "  ''' Inputs:\n",
        "FArm = forces acting on the A-arm (in Newtons)\n",
        "AA_length = length of the A-arm (in meters)\n",
        "theta = angle between ground-plane and the A-arm (in degrees)\n",
        "      Outputs:\n",
        "stress_AA = maximum stress being applied on the A-arm (in N/m^2 == Pa)\n",
        "  '''\n",
        "  stress_AA = float(FArm / (AA_length / theta))\n",
        "  return stress_AA"
      ],
      "metadata": {
        "id": "ZuE3KiUxQTFq"
      },
      "execution_count": null,
      "outputs": []
    },
    {
      "cell_type": "code",
      "source": [
        "FArm_FU = FArm(Massa, g, AA_FU_length, AA_FU_theta)\n",
        "FArm_FL = FArm(Massa, g, AA_FL_length, AA_FL_theta)\n",
        "FArm_RU = FArm(Massa, g, AA_RU_length, AA_RU_theta)\n",
        "FArm_RL = FArm(Massa, g, AA_RL_length, AA_RL_theta)"
      ],
      "metadata": {
        "id": "-Fo2H02PAkTK"
      },
      "execution_count": null,
      "outputs": []
    },
    {
      "cell_type": "code",
      "source": [
        "AA_St_FU = stress_AA(FArm_FU, AA_FU_length, AA_FU_theta)\n",
        "print(\"AA_St_FU: \", AA_St_FU)\n",
        "AA_St_FL = stress_AA(FArm_FL, AA_FL_length, AA_FL_theta)\n",
        "print(\"AA_St_FL: \", AA_St_FL)\n",
        "AA_St_RU = stress_AA(FArm_RU, AA_RU_length, AA_RU_theta)\n",
        "print(\"AA_St_RU: \", AA_St_RU)\n",
        "AA_St_RL = stress_AA(FArm_RL, AA_RL_length, AA_RL_theta)\n",
        "print(\"AA_St_RL: \", AA_St_RL)"
      ],
      "metadata": {
        "id": "3wJI-NOxQuvv",
        "colab": {
          "base_uri": "https://localhost:8080/"
        },
        "outputId": "501da33e-a2cd-4359-e688-378a45d0c7e0"
      },
      "execution_count": null,
      "outputs": [
        {
          "output_type": "stream",
          "name": "stdout",
          "text": [
            "AA_St_FU:  3087.470236671543\n",
            "AA_St_FL:  3087.470236671543\n",
            "AA_St_RU:  3087.470236671543\n",
            "AA_St_RL:  3087.470236671543\n"
          ]
        }
      ]
    },
    {
      "cell_type": "markdown",
      "source": [
        "# ***Maximum Acceleration Case***"
      ],
      "metadata": {
        "id": "--l36kZAJIhm"
      }
    },
    {
      "cell_type": "code",
      "source": [
        "W_front = float(((Massa * g * 215/1000)/Entre_Eixos/1000) * 1.2042270058708415)\n",
        "W_rear = float(((Massa * g * 215/1000)/Entre_Eixos/1000) * 1.2042270058708415)\n",
        "print(W_front)\n",
        "print(W_rear)"
      ],
      "metadata": {
        "colab": {
          "base_uri": "https://localhost:8080/"
        },
        "id": "PoG0ffTet6Zf",
        "outputId": "cf4887e7-d28c-4224-c47d-4457753b9150"
      },
      "execution_count": null,
      "outputs": [
        {
          "output_type": "stream",
          "name": "stdout",
          "text": [
            "0.0004995321780821918\n",
            "0.0004995321780821918\n"
          ]
        }
      ]
    },
    {
      "cell_type": "code",
      "source": [
        "def force_front(mass, g_accel, max_accel, wheelbase, dist_CG_front_axle):\n",
        "  '''\n",
        "  Inputs:\n",
        "  -mass = mass of the car (in kg)\n",
        "  -g_accel = gravity acceleration (in m/s^2)\n",
        "  -wheelbase = distance between wheels (in meter)\n",
        "  -dist_CG_front_axle = distance between the Center of gravity and the front axle (in meter)\n",
        "  Output:\n",
        "  -force_front = force being applied on the front suspension arms (in Newton)\n",
        "  '''\n",
        "  force_front = float((((mass * g_accel * dist_CG_front_axle)/wheelbase) * max_accel) / g_accel)\n",
        "  return force_front"
      ],
      "metadata": {
        "id": "32k1ukPSJTWW"
      },
      "execution_count": null,
      "outputs": []
    },
    {
      "cell_type": "code",
      "source": [
        "AA_Acc_FU = force_front(Massa, g, max_accel, Entre_Eixos/1000, 215/1000)\n",
        "print(AA_Acc_FU)\n",
        "AA_Acc_FL = force_front(Massa, g, max_accel, Entre_Eixos/1000, 215/1000)\n",
        "print(AA_Acc_FL)"
      ],
      "metadata": {
        "colab": {
          "base_uri": "https://localhost:8080/"
        },
        "id": "iRlurDfvrA-d",
        "outputId": "b6336db9-3148-4ac3-8ff9-9771e7e4156b"
      },
      "execution_count": null,
      "outputs": [
        {
          "output_type": "stream",
          "name": "stdout",
          "text": [
            "50.97267123287671\n",
            "50.97267123287671\n"
          ]
        }
      ]
    },
    {
      "cell_type": "code",
      "source": [
        "def force_rear(mass, g_accel, max_accel, wheelbase, dist_CG_rear_axle):\n",
        "  '''\n",
        "  Inputs:\n",
        "  -mass = mass of the car (in kg)\n",
        "  -g_accel = gravity acceleration (in m/s^2)\n",
        "  -wheelbase = distance between wheels (in meter)\n",
        "  -dist_GC_rear_axle = distance between the Center of gravity and the rear axle (in meter)\n",
        "  Output:\n",
        "  -force_rear = force being applied on the rear suspension arms (in Newton)\n",
        "  '''\n",
        "  force_rear = float((((mass * g_accel * dist_CG_rear_axle)/wheelbase) * max_accel) / g_accel)\n",
        "  return force_rear"
      ],
      "metadata": {
        "id": "kKAXheqgMGX8"
      },
      "execution_count": null,
      "outputs": []
    },
    {
      "cell_type": "code",
      "source": [
        "AA_Acc_RU = force_rear(Massa, g, max_accel, Entre_Eixos/1000, 215/1000)\n",
        "print(AA_Acc_RU)\n",
        "AA_Acc_RL = force_rear(Massa, g, max_accel, Entre_Eixos/1000, 215/1000)\n",
        "print(AA_Acc_RL)"
      ],
      "metadata": {
        "colab": {
          "base_uri": "https://localhost:8080/"
        },
        "id": "xRLwPfqVta-c",
        "outputId": "df99c741-1e54-4d1b-a6e2-503a15b4d94b"
      },
      "execution_count": null,
      "outputs": [
        {
          "output_type": "stream",
          "name": "stdout",
          "text": [
            "50.97267123287671\n",
            "50.97267123287671\n"
          ]
        }
      ]
    },
    {
      "cell_type": "code",
      "source": [
        "def stress_pushrod_accel(mass, g_accel, max_accel, length_push, percent):\n",
        "  '''Inputs:\n",
        "  mass = car mass (in Kg)\n",
        "  g_accel = gravity (in m/s^2)\n",
        "  max_accel = the maximum acceleration the car achieves (in m/s^2)\n",
        "  length_push = length of the pushrod (in meters)\n",
        "  percent = percentage of weight distribution the push receives (adimensional)\n",
        "  Outputs:\n",
        "  stress_pushrod_accel = the maximum stress being applied on the pushrod during maximum acceleration case\n",
        "  '''\n",
        "  stress_pushrod_accel = (mass * g_accel * max_accel) / (length_push * percent)\n",
        "  return stress_pushrod_accel"
      ],
      "metadata": {
        "id": "_x84yBt9EguU"
      },
      "execution_count": null,
      "outputs": []
    },
    {
      "cell_type": "code",
      "source": [
        "AA_Acc_FP = stress_pushrod_accel(Massa, g, max_accel, AA_FP_length, Percent_Front)\n",
        "print(AA_Acc_FP)\n",
        "AA_Acc_RP = stress_pushrod_accel(Massa, g, max_accel, AA_RP_length, Percent_Rear)\n",
        "print(AA_Acc_RP)"
      ],
      "metadata": {
        "colab": {
          "base_uri": "https://localhost:8080/"
        },
        "id": "9fCFhFcWHJFX",
        "outputId": "c0ce574e-bc4a-4871-c81a-b2d11ac504b8"
      },
      "execution_count": null,
      "outputs": [
        {
          "output_type": "stream",
          "name": "stdout",
          "text": [
            "37.98219732888637\n",
            "33.65024836690662\n"
          ]
        }
      ]
    },
    {
      "cell_type": "markdown",
      "source": [
        "# ***Maximum Cornering Case***"
      ],
      "metadata": {
        "id": "8lMA46VAIL1d"
      }
    },
    {
      "cell_type": "code",
      "source": [
        "#Lateral work load:\n",
        "\n",
        "def torque(Wlat, susp_arm_length):\n",
        "  '''Inputs:\n",
        "Wlat = lateral force acting on the arm\n",
        "susp_arm_length = length of the arm (in meters)\n",
        "    Outputs:\n",
        "torque = maximum torque acting on a wheel\n",
        "  '''\n",
        "  torque = float(Wlat * susp_arm_length)\n",
        "  return torque"
      ],
      "metadata": {
        "id": "cihxSW0DvQoj"
      },
      "execution_count": null,
      "outputs": []
    },
    {
      "cell_type": "code",
      "source": [
        "Torque = torque(1417.79025*1.5, 400/1000)\n",
        "Torque"
      ],
      "metadata": {
        "colab": {
          "base_uri": "https://localhost:8080/"
        },
        "id": "iH-vP6Zl0rEN",
        "outputId": "08965619-68f0-4d86-ae63-29848a24471d"
      },
      "execution_count": null,
      "outputs": [
        {
          "output_type": "execute_result",
          "data": {
            "text/plain": [
              "850.67415"
            ]
          },
          "metadata": {},
          "execution_count": 37
        }
      ]
    },
    {
      "cell_type": "code",
      "source": [
        "#Maximum Cornering Case\n",
        "\n",
        "def calculate_stress(torque, cross_sectional_area):\n",
        "    \"\"\"\n",
        "    Calculate stress in a suspension arm under maximum cornering load.\n",
        "\n",
        "    Args:\n",
        "    - torque (float): Maximum bending moment working on the arm, relative to the wheel (in Newton-Meter)\n",
        "    - cross_sectional_area (float): Cross-sectional area of the suspension arm (in square milimeters).\n",
        "\n",
        "    Returns:\n",
        "    - stress (float): Stress in the suspension arm (in Megapascals).\n",
        "    \"\"\"\n",
        "\n",
        "    # Calculate stress using simple beam bending formula (assuming uniform distribution)\n",
        "    stress = torque / (cross_sectional_area / 2)\n",
        "\n",
        "    return stress"
      ],
      "metadata": {
        "id": "oneKmNMyFKXY"
      },
      "execution_count": null,
      "outputs": []
    },
    {
      "cell_type": "code",
      "source": [
        "#Forces acting on each arm\n",
        "\n",
        "def Ftop(h1, h2, Wlat):\n",
        "  '''Inputs:\n",
        "  h1 = height between the ground plane and the lower-arm (in Meters)\n",
        "  h2 = height between lower-arm and upper-arm (in Meters)\n",
        "  Wlat = front outer design cornering force (in N)\n",
        "    Outputs:\n",
        "  Ftop = forces working on the upper-arm (in N)\n",
        "  '''\n",
        "  Ftop = float((h1 / h2) * Wlat)\n",
        "  return Ftop\n",
        "\n",
        "def Fbottom(h1, h2, Wlat):\n",
        "  Fbottom = float(((h1 + h2) / h2) * Wlat)\n",
        "  return Fbottom"
      ],
      "metadata": {
        "id": "T4B2Ov08S4wG"
      },
      "execution_count": null,
      "outputs": []
    },
    {
      "cell_type": "code",
      "source": [
        "#Frontal Upper Right arm\n",
        "h1 = 156\n",
        "h2 = 173.5\n",
        "Wlat = 1417.79025*1.5\n",
        "AA_Cor_FUR = Ftop(h1,h2,Wlat)\n",
        "print(AA_Cor_FUR)"
      ],
      "metadata": {
        "colab": {
          "base_uri": "https://localhost:8080/"
        },
        "id": "IvQWMpgG4YCb",
        "outputId": "ead7ad3d-bc75-4906-8501-8becdf7484ff"
      },
      "execution_count": null,
      "outputs": [
        {
          "output_type": "stream",
          "name": "stdout",
          "text": [
            "1912.178204610951\n"
          ]
        }
      ]
    },
    {
      "cell_type": "code",
      "source": [
        "#Frontal Lower Right arm\n",
        "h1 = 156\n",
        "h2 = 173.5\n",
        "Wlat = 1417.79025*1.5\n",
        "AA_Cor_FLR = Fbottom(h1,h2,Wlat)\n",
        "print(AA_Cor_FLR)"
      ],
      "metadata": {
        "colab": {
          "base_uri": "https://localhost:8080/"
        },
        "id": "YClW-dm064cl",
        "outputId": "96e95e53-d583-4de3-e834-6d0ca7e23d8c"
      },
      "execution_count": null,
      "outputs": [
        {
          "output_type": "stream",
          "name": "stdout",
          "text": [
            "4038.863579610951\n"
          ]
        }
      ]
    },
    {
      "cell_type": "code",
      "source": [
        "#Rear Upper Right arm\n",
        "h1 = 162\n",
        "h2 = 80.9\n",
        "Wlat = 1417.79025*1.5\n",
        "AA_Cor_RUR = Ftop(h1, h2, Wlat)\n",
        "print(AA_Cor_RUR)"
      ],
      "metadata": {
        "colab": {
          "base_uri": "https://localhost:8080/"
        },
        "id": "TZriSuVeOOEH",
        "outputId": "f8462f35-2ef8-4df9-c375-318e3a2c77e8"
      },
      "execution_count": null,
      "outputs": [
        {
          "output_type": "stream",
          "name": "stdout",
          "text": [
            "4258.628315822002\n"
          ]
        }
      ]
    },
    {
      "cell_type": "code",
      "source": [
        "#Rear Lower Right arm\n",
        "h1 = 162\n",
        "h2 = 80.9\n",
        "Wlat = 1417.79025*1.5\n",
        "AA_Cor_RLR = Fbottom(h1, h2, Wlat)\n",
        "print(AA_Cor_RLR)"
      ],
      "metadata": {
        "colab": {
          "base_uri": "https://localhost:8080/"
        },
        "id": "qG_qIS3oP8U5",
        "outputId": "985fba83-53a5-4870-ca9b-ee0fcaf45ff1"
      },
      "execution_count": null,
      "outputs": [
        {
          "output_type": "stream",
          "name": "stdout",
          "text": [
            "6385.313690822002\n"
          ]
        }
      ]
    },
    {
      "cell_type": "code",
      "source": [
        "#Frontal Upper Left arm\n",
        "h1 = 156\n",
        "h2 = 173.5\n",
        "Wlat = 53.70975*1.5\n",
        "AA_Cor_FUL = Ftop(h1, h2, Wlat)\n",
        "print(AA_Cor_FUL)"
      ],
      "metadata": {
        "colab": {
          "base_uri": "https://localhost:8080/"
        },
        "id": "1vSmUA5rT5FX",
        "outputId": "5629622d-f74d-4cc8-8e6f-9bd974917c62"
      },
      "execution_count": null,
      "outputs": [
        {
          "output_type": "stream",
          "name": "stdout",
          "text": [
            "72.43851008645534\n"
          ]
        }
      ]
    },
    {
      "cell_type": "code",
      "source": [
        "#Frontal Lower Left arm\n",
        "h1 = 156\n",
        "h2 = 173.5\n",
        "Wlat = 53.70975*1.5\n",
        "AA_Cor_FLL = Fbottom(h1, h2, Wlat)\n",
        "print(AA_Cor_FLL)"
      ],
      "metadata": {
        "colab": {
          "base_uri": "https://localhost:8080/"
        },
        "id": "nXfYYgiSUgEI",
        "outputId": "cb418e91-2587-438a-f92e-120fad6f87dc"
      },
      "execution_count": null,
      "outputs": [
        {
          "output_type": "stream",
          "name": "stdout",
          "text": [
            "153.00313508645533\n"
          ]
        }
      ]
    },
    {
      "cell_type": "code",
      "source": [
        "#Rear Upper Left arm\n",
        "h1 = 162\n",
        "h2 = 80.9\n",
        "Wlat = 468.67275*1.5\n",
        "AA_Cor_RUL = Ftop(h1, h2, Wlat)\n",
        "print(AA_Cor_RUL)"
      ],
      "metadata": {
        "colab": {
          "base_uri": "https://localhost:8080/"
        },
        "id": "p0EMlJmlUoTX",
        "outputId": "56798ea6-066d-4779-9b70-cbadbe612076"
      },
      "execution_count": null,
      "outputs": [
        {
          "output_type": "stream",
          "name": "stdout",
          "text": [
            "1407.7562206427688\n"
          ]
        }
      ]
    },
    {
      "cell_type": "code",
      "source": [
        "#Rear Lowe Left arm\n",
        "h1 = 162\n",
        "h2 = 80.9\n",
        "Wlat = 468.67275*1.5\n",
        "AA_Cor_RLL = Fbottom(h1, h2, Wlat)\n",
        "print(AA_Cor_RLL)"
      ],
      "metadata": {
        "colab": {
          "base_uri": "https://localhost:8080/"
        },
        "id": "55TvzGMiU1l_",
        "outputId": "c29e41f8-5ea0-4c8d-e6ae-990b5ae4e8c4"
      },
      "execution_count": null,
      "outputs": [
        {
          "output_type": "stream",
          "name": "stdout",
          "text": [
            "2110.765345642769\n"
          ]
        }
      ]
    },
    {
      "cell_type": "markdown",
      "source": [
        "# ***Maximum Braking Case***"
      ],
      "metadata": {
        "id": "achCUxWtISxN"
      }
    },
    {
      "cell_type": "code",
      "source": [
        "#Maximum braking force\n",
        "def max_braking_force(vehicle_mass, deceleration):\n",
        "    \"\"\"\n",
        "    Calculate the maximum braking force for a vehicle.\n",
        "\n",
        "    Args:\n",
        "    - vehicle_mass (float): Mass of the vehicle (in kilograms).\n",
        "    - deceleration (float): Maximum deceleration of the vehicle (in meters per second squared).\n",
        "\n",
        "    Returns:\n",
        "    - max_braking_force (float): Maximum braking force (in Newtons).\n",
        "    \"\"\"\n",
        "    # Calculate maximum braking force using Newton's second law (F = m * a)\n",
        "    max_braking_force = vehicle_mass * deceleration\n",
        "\n",
        "    return max_braking_force"
      ],
      "metadata": {
        "id": "NOgQXNOJ8ply"
      },
      "execution_count": null,
      "outputs": []
    },
    {
      "cell_type": "code",
      "source": [
        "F_max_brake = max_braking_force(Massa, 4414.5)\n",
        "F_max_brake"
      ],
      "metadata": {
        "id": "qQrI2Ov37Zlb",
        "colab": {
          "base_uri": "https://localhost:8080/"
        },
        "outputId": "6d0d83d7-f04c-48b6-de4c-036302624fc7"
      },
      "execution_count": null,
      "outputs": [
        {
          "output_type": "execute_result",
          "data": {
            "text/plain": [
              "1390567.5"
            ]
          },
          "metadata": {},
          "execution_count": 51
        }
      ]
    },
    {
      "cell_type": "code",
      "source": [
        "#Stress during Maximum Braking\n",
        "def stress_max_braking(max_braking_force, suspension_arm_length, cross_sectional_area):\n",
        "    \"\"\"\n",
        "    Calculate stress in a suspension arm under maximum braking load.\n",
        "\n",
        "    Args:\n",
        "    - max_braking_force (float): Maximum braking force applied (in Newtons).\n",
        "    - suspension_arm_length (float): Length of the suspension arm (in meters).\n",
        "    - cross_sectional_area (float): Cross-sectional area of the suspension arm (in square meters).\n",
        "\n",
        "    Returns:\n",
        "    - stress (float): Stress in the suspension arm (in Pascals).\n",
        "    \"\"\"\n",
        "    # Assuming braking force is applied evenly along the length of the suspension arm\n",
        "    # Calculate the bending moment on the suspension arm due to braking force\n",
        "    bending_moment_braking = max_braking_force * suspension_arm_length / 2\n",
        "\n",
        "    # Calculate stress using simple beam bending formula (assuming uniform distribution)\n",
        "    stress_braking = bending_moment_braking / (cross_sectional_area / 2)\n",
        "\n",
        "    return stress_max_braking"
      ],
      "metadata": {
        "id": "KkthEi_M2P4f"
      },
      "execution_count": null,
      "outputs": []
    },
    {
      "cell_type": "code",
      "source": [
        "AA_Bra_FU = stress_max_braking(F_max_brake, 280.024/100, cross_sectional_area)\n",
        "print(AA_Bra_FU)"
      ],
      "metadata": {
        "id": "176bytU7tOQi",
        "colab": {
          "base_uri": "https://localhost:8080/"
        },
        "outputId": "04dc2fc2-5a09-46d7-ee71-fb3993baeebb"
      },
      "execution_count": null,
      "outputs": [
        {
          "output_type": "stream",
          "name": "stdout",
          "text": [
            "<function stress_max_braking at 0x7b21801753f0>\n"
          ]
        }
      ]
    },
    {
      "cell_type": "code",
      "source": [
        "AA_Bra_FL = stress_max_braking(F_max_brake, 244.701/100, cross_sectional_area)\n",
        "print(AA_Bra_FL)"
      ],
      "metadata": {
        "id": "AoRPo2hywXMC",
        "colab": {
          "base_uri": "https://localhost:8080/"
        },
        "outputId": "12347deb-697e-447f-e194-def4eb817c6e"
      },
      "execution_count": null,
      "outputs": [
        {
          "output_type": "stream",
          "name": "stdout",
          "text": [
            "<function stress_max_braking at 0x7b21801753f0>\n"
          ]
        }
      ]
    },
    {
      "cell_type": "code",
      "source": [
        "AA_Bra_RU = stress_max_braking(F_max_brake, 167.426/100, cross_sectional_area)\n",
        "print(AA_Bra_RU)"
      ],
      "metadata": {
        "id": "j_NEbp6Awbff",
        "colab": {
          "base_uri": "https://localhost:8080/"
        },
        "outputId": "27916218-1143-4993-87cc-6b949180b533"
      },
      "execution_count": null,
      "outputs": [
        {
          "output_type": "stream",
          "name": "stdout",
          "text": [
            "<function stress_max_braking at 0x7b21801753f0>\n"
          ]
        }
      ]
    },
    {
      "cell_type": "code",
      "source": [
        "AA_Bra_RL = stress_max_braking(F_max_brake, 185.5/100, cross_sectional_area)\n",
        "print(AA_Bra_RL)"
      ],
      "metadata": {
        "id": "owEw0I27weIg",
        "colab": {
          "base_uri": "https://localhost:8080/"
        },
        "outputId": "e783a293-97b2-46c7-c556-e59c7b3d6829"
      },
      "execution_count": null,
      "outputs": [
        {
          "output_type": "stream",
          "name": "stdout",
          "text": [
            "<function stress_max_braking at 0x7b21801753f0>\n"
          ]
        }
      ]
    },
    {
      "cell_type": "code",
      "source": [
        "def stress_pushrod_brake(mass, g_accel, max_brake, length_push, percent):\n",
        "  '''Inputs:\n",
        "  mass = car mass (in Kg)\n",
        "  g_accel = gravity (in m/s^2)\n",
        "  max_brake = the maximum disacceleration the car achieves (in m/s^2)\n",
        "  length_push = length of the pushrod (in meters)\n",
        "  percent = percentage of weight distribution the push receives (adimensional)\n",
        "  Outputs:\n",
        "  stress_pushrod_brake = the maximum stress being applied on the pushrod during maximum braking case\n",
        "  '''\n",
        "  stress_pushrod_accel = (mass * g_accel * max_brake) / (length_push * percent)\n",
        "  return stress_pushrod_brake"
      ],
      "metadata": {
        "id": "iA5_miJqJgXC"
      },
      "execution_count": null,
      "outputs": []
    },
    {
      "cell_type": "code",
      "source": [
        "AA_Bra_FP = stress_pushrod_accel(Massa, g, max_brake, AA_FP_length, Percent_Front)\n",
        "print(AA_Bra_FP)\n",
        "AA_Bra_RP = stress_pushrod_accel(Massa, g, max_brake, AA_RP_length, Percent_Rear)\n",
        "print(AA_Bra_RP)"
      ],
      "metadata": {
        "colab": {
          "base_uri": "https://localhost:8080/"
        },
        "id": "A0Fbge8VJ0IC",
        "outputId": "39384fcf-e808-4b02-8010-bcc70ca7783b"
      },
      "execution_count": null,
      "outputs": [
        {
          "output_type": "stream",
          "name": "stdout",
          "text": [
            "139236.54700561703\n",
            "123356.32791118602\n"
          ]
        }
      ]
    },
    {
      "cell_type": "markdown",
      "source": [
        "# ***Data Frame***"
      ],
      "metadata": {
        "id": "HlT8j8UHFePh"
      }
    },
    {
      "cell_type": "code",
      "source": [
        "from google.colab import drive\n",
        "import pandas as pd"
      ],
      "metadata": {
        "id": "WKqoRYgEYUuU"
      },
      "execution_count": null,
      "outputs": []
    },
    {
      "cell_type": "code",
      "source": [
        "#drive.mount('/content/drive', force_remount=True)"
      ],
      "metadata": {
        "id": "njdLfJ0GYXaE"
      },
      "execution_count": null,
      "outputs": []
    },
    {
      "cell_type": "code",
      "source": [
        "Stationary_Case = {\n",
        "    'AA_St_FP': AA_St_FP,\n",
        "    'AA_St_RP': AA_St_RP,\n",
        "    'AA_St_FU': AA_St_FU,\n",
        "    'AA_St_FL': AA_St_FL,\n",
        "    'AA_St_RU': AA_St_RU,\n",
        "    'AA_St_RL': AA_St_RL\n",
        "\n",
        "}\n",
        "Stationary_Case"
      ],
      "metadata": {
        "colab": {
          "base_uri": "https://localhost:8080/"
        },
        "id": "onSCcD1rnxjp",
        "outputId": "dc994c8a-e303-4dd0-919a-8e9660803dd8"
      },
      "execution_count": null,
      "outputs": [
        {
          "output_type": "execute_result",
          "data": {
            "text/plain": [
              "{'AA_St_FP': 1600.0611366480691,\n",
              " 'AA_St_RP': 2487.4658917122865,\n",
              " 'AA_St_FU': 3087.470236671543,\n",
              " 'AA_St_FL': 3087.470236671543,\n",
              " 'AA_St_RU': 3087.470236671543,\n",
              " 'AA_St_RL': 3087.470236671543}"
            ]
          },
          "metadata": {},
          "execution_count": 61
        }
      ]
    },
    {
      "cell_type": "code",
      "source": [
        "stadf = pd.DataFrame.from_dict(Stationary_Case, orient='index')"
      ],
      "metadata": {
        "id": "EITKkl2fr9kz"
      },
      "execution_count": null,
      "outputs": []
    },
    {
      "cell_type": "code",
      "source": [
        "Max_Accel_Case = {\n",
        "    'AA_Acc_FP': AA_Acc_FP,\n",
        "    'AA_Acc_RP': AA_Acc_RP,\n",
        "    'AA_Acc_FU': AA_Acc_FU,\n",
        "    'AA_Acc_FL': AA_Acc_FL,\n",
        "    'AA_Acc_RU': AA_Acc_RU,\n",
        "    'AA_Acc_RL': AA_Acc_RL\n",
        "}\n",
        "Max_Accel_Case"
      ],
      "metadata": {
        "colab": {
          "base_uri": "https://localhost:8080/"
        },
        "id": "qraeWZWFom7z",
        "outputId": "3d358891-6d0b-42d2-b8a4-d769d473ae2c"
      },
      "execution_count": null,
      "outputs": [
        {
          "output_type": "execute_result",
          "data": {
            "text/plain": [
              "{'AA_Acc_FP': 37.98219732888637,\n",
              " 'AA_Acc_RP': 33.65024836690662,\n",
              " 'AA_Acc_FU': 50.97267123287671,\n",
              " 'AA_Acc_FL': 50.97267123287671,\n",
              " 'AA_Acc_RU': 50.97267123287671,\n",
              " 'AA_Acc_RL': 50.97267123287671}"
            ]
          },
          "metadata": {},
          "execution_count": 62
        }
      ]
    },
    {
      "cell_type": "code",
      "source": [
        "accdf = pd.DataFrame.from_dict(Max_Accel_Case, orient='index')"
      ],
      "metadata": {
        "id": "fhf64CMjoBMo"
      },
      "execution_count": null,
      "outputs": []
    },
    {
      "cell_type": "code",
      "source": [
        "Max_Braking_Case = {\n",
        "'AA_Bra_FP': AA_Bra_FP,\n",
        "'AA_Bra_RP': AA_Bra_RP,\n",
        "'AA_Bra_FU': AA_Bra_FU,\n",
        "'AA_Bra_FL': AA_Bra_FL,\n",
        "'AA_Bra_RU': AA_Bra_RU,\n",
        "'AA_Bra_RL': AA_Bra_RL\n",
        " }\n",
        "Max_Braking_Case"
      ],
      "metadata": {
        "colab": {
          "base_uri": "https://localhost:8080/"
        },
        "id": "gut0CfRJp93R",
        "outputId": "578c2825-1480-412b-95f2-dfff2c1480eb"
      },
      "execution_count": null,
      "outputs": [
        {
          "output_type": "execute_result",
          "data": {
            "text/plain": [
              "{'AA_Bra_FP': 139236.54700561703,\n",
              " 'AA_Bra_RP': 123356.32791118602,\n",
              " 'AA_Bra_FU': <function __main__.stress_max_braking(max_braking_force, suspension_arm_length, cross_sectional_area)>,\n",
              " 'AA_Bra_FL': <function __main__.stress_max_braking(max_braking_force, suspension_arm_length, cross_sectional_area)>,\n",
              " 'AA_Bra_RU': <function __main__.stress_max_braking(max_braking_force, suspension_arm_length, cross_sectional_area)>,\n",
              " 'AA_Bra_RL': <function __main__.stress_max_braking(max_braking_force, suspension_arm_length, cross_sectional_area)>}"
            ]
          },
          "metadata": {},
          "execution_count": 63
        }
      ]
    },
    {
      "cell_type": "code",
      "source": [
        "bradf = pd.DataFrame.from_dict(Max_Braking_Case, orient='index')"
      ],
      "metadata": {
        "id": "sytZ5hrgqqEM"
      },
      "execution_count": null,
      "outputs": []
    },
    {
      "cell_type": "code",
      "source": [
        "Max_Corner_Case = {\n",
        "    'AA_Cor_FUR': AA_Cor_FUR,\n",
        "    'AA_Cor_FLR': AA_Cor_FLR,\n",
        "    'AA_Cor_RUR': AA_Cor_RUR,\n",
        "    'AA_Cor_RLR': AA_Cor_RLR,\n",
        "    'AA_Cor_FUL': AA_Cor_FUL,\n",
        "    'AA_Cor_FLL': AA_Cor_FLL,\n",
        "    'AA_Cor_RUL': AA_Cor_RUL,\n",
        "    'AA_Cor_RLL': AA_Cor_RLL\n",
        "\n",
        "}\n",
        "Max_Corner_Case"
      ],
      "metadata": {
        "colab": {
          "base_uri": "https://localhost:8080/"
        },
        "id": "xqxYNZYIpJk0",
        "outputId": "6e4f024f-8682-470f-bd73-408401155c54"
      },
      "execution_count": null,
      "outputs": [
        {
          "output_type": "execute_result",
          "data": {
            "text/plain": [
              "{'AA_Cor_FUR': 1912.178204610951,\n",
              " 'AA_Cor_FLR': 4038.863579610951,\n",
              " 'AA_Cor_RUR': 4258.628315822002,\n",
              " 'AA_Cor_RLR': 6385.313690822002,\n",
              " 'AA_Cor_FUL': 72.43851008645534,\n",
              " 'AA_Cor_FLL': 153.00313508645533,\n",
              " 'AA_Cor_RUL': 1407.7562206427688,\n",
              " 'AA_Cor_RLL': 2110.765345642769}"
            ]
          },
          "metadata": {},
          "execution_count": 67
        }
      ]
    },
    {
      "cell_type": "code",
      "source": [
        "cordf = pd.DataFrame.from_dict(Max_Corner_Case, orient='index')\n",
        "pd.concat([stadf, accdf, bradf, cordf])"
      ],
      "metadata": {
        "colab": {
          "base_uri": "https://localhost:8080/",
          "height": 865
        },
        "id": "Zi0nTpHHpnsz",
        "outputId": "1b1b96d4-3b2c-48a4-fe96-a274f82fd604"
      },
      "execution_count": null,
      "outputs": [
        {
          "output_type": "execute_result",
          "data": {
            "text/plain": [
              "                                                          0\n",
              "AA_St_FP                                        1600.061137\n",
              "AA_St_RP                                        2487.465892\n",
              "AA_St_FU                                        3087.470237\n",
              "AA_St_FL                                        3087.470237\n",
              "AA_St_RU                                        3087.470237\n",
              "AA_St_RL                                        3087.470237\n",
              "AA_Acc_FP                                         37.982197\n",
              "AA_Acc_RP                                         33.650248\n",
              "AA_Acc_FU                                         50.972671\n",
              "AA_Acc_FL                                         50.972671\n",
              "AA_Acc_RU                                         50.972671\n",
              "AA_Acc_RL                                         50.972671\n",
              "AA_Bra_FP                                     139236.547006\n",
              "AA_Bra_RP                                     123356.327911\n",
              "AA_Bra_FU   <function stress_max_braking at 0x7b21801753f0>\n",
              "AA_Bra_FL   <function stress_max_braking at 0x7b21801753f0>\n",
              "AA_Bra_RU   <function stress_max_braking at 0x7b21801753f0>\n",
              "AA_Bra_RL   <function stress_max_braking at 0x7b21801753f0>\n",
              "AA_Cor_FUR                                      1912.178205\n",
              "AA_Cor_FLR                                       4038.86358\n",
              "AA_Cor_RUR                                      4258.628316\n",
              "AA_Cor_RLR                                      6385.313691\n",
              "AA_Cor_FUL                                         72.43851\n",
              "AA_Cor_FLL                                       153.003135\n",
              "AA_Cor_RUL                                      1407.756221\n",
              "AA_Cor_RLL                                      2110.765346"
            ],
            "text/html": [
              "\n",
              "  <div id=\"df-49b3a3e2-ecf5-4b95-abdd-b73d7e16a9a5\" class=\"colab-df-container\">\n",
              "    <div>\n",
              "<style scoped>\n",
              "    .dataframe tbody tr th:only-of-type {\n",
              "        vertical-align: middle;\n",
              "    }\n",
              "\n",
              "    .dataframe tbody tr th {\n",
              "        vertical-align: top;\n",
              "    }\n",
              "\n",
              "    .dataframe thead th {\n",
              "        text-align: right;\n",
              "    }\n",
              "</style>\n",
              "<table border=\"1\" class=\"dataframe\">\n",
              "  <thead>\n",
              "    <tr style=\"text-align: right;\">\n",
              "      <th></th>\n",
              "      <th>0</th>\n",
              "    </tr>\n",
              "  </thead>\n",
              "  <tbody>\n",
              "    <tr>\n",
              "      <th>AA_St_FP</th>\n",
              "      <td>1600.061137</td>\n",
              "    </tr>\n",
              "    <tr>\n",
              "      <th>AA_St_RP</th>\n",
              "      <td>2487.465892</td>\n",
              "    </tr>\n",
              "    <tr>\n",
              "      <th>AA_St_FU</th>\n",
              "      <td>3087.470237</td>\n",
              "    </tr>\n",
              "    <tr>\n",
              "      <th>AA_St_FL</th>\n",
              "      <td>3087.470237</td>\n",
              "    </tr>\n",
              "    <tr>\n",
              "      <th>AA_St_RU</th>\n",
              "      <td>3087.470237</td>\n",
              "    </tr>\n",
              "    <tr>\n",
              "      <th>AA_St_RL</th>\n",
              "      <td>3087.470237</td>\n",
              "    </tr>\n",
              "    <tr>\n",
              "      <th>AA_Acc_FP</th>\n",
              "      <td>37.982197</td>\n",
              "    </tr>\n",
              "    <tr>\n",
              "      <th>AA_Acc_RP</th>\n",
              "      <td>33.650248</td>\n",
              "    </tr>\n",
              "    <tr>\n",
              "      <th>AA_Acc_FU</th>\n",
              "      <td>50.972671</td>\n",
              "    </tr>\n",
              "    <tr>\n",
              "      <th>AA_Acc_FL</th>\n",
              "      <td>50.972671</td>\n",
              "    </tr>\n",
              "    <tr>\n",
              "      <th>AA_Acc_RU</th>\n",
              "      <td>50.972671</td>\n",
              "    </tr>\n",
              "    <tr>\n",
              "      <th>AA_Acc_RL</th>\n",
              "      <td>50.972671</td>\n",
              "    </tr>\n",
              "    <tr>\n",
              "      <th>AA_Bra_FP</th>\n",
              "      <td>139236.547006</td>\n",
              "    </tr>\n",
              "    <tr>\n",
              "      <th>AA_Bra_RP</th>\n",
              "      <td>123356.327911</td>\n",
              "    </tr>\n",
              "    <tr>\n",
              "      <th>AA_Bra_FU</th>\n",
              "      <td>&lt;function stress_max_braking at 0x7b21801753f0&gt;</td>\n",
              "    </tr>\n",
              "    <tr>\n",
              "      <th>AA_Bra_FL</th>\n",
              "      <td>&lt;function stress_max_braking at 0x7b21801753f0&gt;</td>\n",
              "    </tr>\n",
              "    <tr>\n",
              "      <th>AA_Bra_RU</th>\n",
              "      <td>&lt;function stress_max_braking at 0x7b21801753f0&gt;</td>\n",
              "    </tr>\n",
              "    <tr>\n",
              "      <th>AA_Bra_RL</th>\n",
              "      <td>&lt;function stress_max_braking at 0x7b21801753f0&gt;</td>\n",
              "    </tr>\n",
              "    <tr>\n",
              "      <th>AA_Cor_FUR</th>\n",
              "      <td>1912.178205</td>\n",
              "    </tr>\n",
              "    <tr>\n",
              "      <th>AA_Cor_FLR</th>\n",
              "      <td>4038.86358</td>\n",
              "    </tr>\n",
              "    <tr>\n",
              "      <th>AA_Cor_RUR</th>\n",
              "      <td>4258.628316</td>\n",
              "    </tr>\n",
              "    <tr>\n",
              "      <th>AA_Cor_RLR</th>\n",
              "      <td>6385.313691</td>\n",
              "    </tr>\n",
              "    <tr>\n",
              "      <th>AA_Cor_FUL</th>\n",
              "      <td>72.43851</td>\n",
              "    </tr>\n",
              "    <tr>\n",
              "      <th>AA_Cor_FLL</th>\n",
              "      <td>153.003135</td>\n",
              "    </tr>\n",
              "    <tr>\n",
              "      <th>AA_Cor_RUL</th>\n",
              "      <td>1407.756221</td>\n",
              "    </tr>\n",
              "    <tr>\n",
              "      <th>AA_Cor_RLL</th>\n",
              "      <td>2110.765346</td>\n",
              "    </tr>\n",
              "  </tbody>\n",
              "</table>\n",
              "</div>\n",
              "    <div class=\"colab-df-buttons\">\n",
              "\n",
              "  <div class=\"colab-df-container\">\n",
              "    <button class=\"colab-df-convert\" onclick=\"convertToInteractive('df-49b3a3e2-ecf5-4b95-abdd-b73d7e16a9a5')\"\n",
              "            title=\"Convert this dataframe to an interactive table.\"\n",
              "            style=\"display:none;\">\n",
              "\n",
              "  <svg xmlns=\"http://www.w3.org/2000/svg\" height=\"24px\" viewBox=\"0 -960 960 960\">\n",
              "    <path d=\"M120-120v-720h720v720H120Zm60-500h600v-160H180v160Zm220 220h160v-160H400v160Zm0 220h160v-160H400v160ZM180-400h160v-160H180v160Zm440 0h160v-160H620v160ZM180-180h160v-160H180v160Zm440 0h160v-160H620v160Z\"/>\n",
              "  </svg>\n",
              "    </button>\n",
              "\n",
              "  <style>\n",
              "    .colab-df-container {\n",
              "      display:flex;\n",
              "      gap: 12px;\n",
              "    }\n",
              "\n",
              "    .colab-df-convert {\n",
              "      background-color: #E8F0FE;\n",
              "      border: none;\n",
              "      border-radius: 50%;\n",
              "      cursor: pointer;\n",
              "      display: none;\n",
              "      fill: #1967D2;\n",
              "      height: 32px;\n",
              "      padding: 0 0 0 0;\n",
              "      width: 32px;\n",
              "    }\n",
              "\n",
              "    .colab-df-convert:hover {\n",
              "      background-color: #E2EBFA;\n",
              "      box-shadow: 0px 1px 2px rgba(60, 64, 67, 0.3), 0px 1px 3px 1px rgba(60, 64, 67, 0.15);\n",
              "      fill: #174EA6;\n",
              "    }\n",
              "\n",
              "    .colab-df-buttons div {\n",
              "      margin-bottom: 4px;\n",
              "    }\n",
              "\n",
              "    [theme=dark] .colab-df-convert {\n",
              "      background-color: #3B4455;\n",
              "      fill: #D2E3FC;\n",
              "    }\n",
              "\n",
              "    [theme=dark] .colab-df-convert:hover {\n",
              "      background-color: #434B5C;\n",
              "      box-shadow: 0px 1px 3px 1px rgba(0, 0, 0, 0.15);\n",
              "      filter: drop-shadow(0px 1px 2px rgba(0, 0, 0, 0.3));\n",
              "      fill: #FFFFFF;\n",
              "    }\n",
              "  </style>\n",
              "\n",
              "    <script>\n",
              "      const buttonEl =\n",
              "        document.querySelector('#df-49b3a3e2-ecf5-4b95-abdd-b73d7e16a9a5 button.colab-df-convert');\n",
              "      buttonEl.style.display =\n",
              "        google.colab.kernel.accessAllowed ? 'block' : 'none';\n",
              "\n",
              "      async function convertToInteractive(key) {\n",
              "        const element = document.querySelector('#df-49b3a3e2-ecf5-4b95-abdd-b73d7e16a9a5');\n",
              "        const dataTable =\n",
              "          await google.colab.kernel.invokeFunction('convertToInteractive',\n",
              "                                                    [key], {});\n",
              "        if (!dataTable) return;\n",
              "\n",
              "        const docLinkHtml = 'Like what you see? Visit the ' +\n",
              "          '<a target=\"_blank\" href=https://colab.research.google.com/notebooks/data_table.ipynb>data table notebook</a>'\n",
              "          + ' to learn more about interactive tables.';\n",
              "        element.innerHTML = '';\n",
              "        dataTable['output_type'] = 'display_data';\n",
              "        await google.colab.output.renderOutput(dataTable, element);\n",
              "        const docLink = document.createElement('div');\n",
              "        docLink.innerHTML = docLinkHtml;\n",
              "        element.appendChild(docLink);\n",
              "      }\n",
              "    </script>\n",
              "  </div>\n",
              "\n",
              "\n",
              "<div id=\"df-84babf41-7779-4ef7-801b-d8aacbdd0c7d\">\n",
              "  <button class=\"colab-df-quickchart\" onclick=\"quickchart('df-84babf41-7779-4ef7-801b-d8aacbdd0c7d')\"\n",
              "            title=\"Suggest charts\"\n",
              "            style=\"display:none;\">\n",
              "\n",
              "<svg xmlns=\"http://www.w3.org/2000/svg\" height=\"24px\"viewBox=\"0 0 24 24\"\n",
              "     width=\"24px\">\n",
              "    <g>\n",
              "        <path d=\"M19 3H5c-1.1 0-2 .9-2 2v14c0 1.1.9 2 2 2h14c1.1 0 2-.9 2-2V5c0-1.1-.9-2-2-2zM9 17H7v-7h2v7zm4 0h-2V7h2v10zm4 0h-2v-4h2v4z\"/>\n",
              "    </g>\n",
              "</svg>\n",
              "  </button>\n",
              "\n",
              "<style>\n",
              "  .colab-df-quickchart {\n",
              "      --bg-color: #E8F0FE;\n",
              "      --fill-color: #1967D2;\n",
              "      --hover-bg-color: #E2EBFA;\n",
              "      --hover-fill-color: #174EA6;\n",
              "      --disabled-fill-color: #AAA;\n",
              "      --disabled-bg-color: #DDD;\n",
              "  }\n",
              "\n",
              "  [theme=dark] .colab-df-quickchart {\n",
              "      --bg-color: #3B4455;\n",
              "      --fill-color: #D2E3FC;\n",
              "      --hover-bg-color: #434B5C;\n",
              "      --hover-fill-color: #FFFFFF;\n",
              "      --disabled-bg-color: #3B4455;\n",
              "      --disabled-fill-color: #666;\n",
              "  }\n",
              "\n",
              "  .colab-df-quickchart {\n",
              "    background-color: var(--bg-color);\n",
              "    border: none;\n",
              "    border-radius: 50%;\n",
              "    cursor: pointer;\n",
              "    display: none;\n",
              "    fill: var(--fill-color);\n",
              "    height: 32px;\n",
              "    padding: 0;\n",
              "    width: 32px;\n",
              "  }\n",
              "\n",
              "  .colab-df-quickchart:hover {\n",
              "    background-color: var(--hover-bg-color);\n",
              "    box-shadow: 0 1px 2px rgba(60, 64, 67, 0.3), 0 1px 3px 1px rgba(60, 64, 67, 0.15);\n",
              "    fill: var(--button-hover-fill-color);\n",
              "  }\n",
              "\n",
              "  .colab-df-quickchart-complete:disabled,\n",
              "  .colab-df-quickchart-complete:disabled:hover {\n",
              "    background-color: var(--disabled-bg-color);\n",
              "    fill: var(--disabled-fill-color);\n",
              "    box-shadow: none;\n",
              "  }\n",
              "\n",
              "  .colab-df-spinner {\n",
              "    border: 2px solid var(--fill-color);\n",
              "    border-color: transparent;\n",
              "    border-bottom-color: var(--fill-color);\n",
              "    animation:\n",
              "      spin 1s steps(1) infinite;\n",
              "  }\n",
              "\n",
              "  @keyframes spin {\n",
              "    0% {\n",
              "      border-color: transparent;\n",
              "      border-bottom-color: var(--fill-color);\n",
              "      border-left-color: var(--fill-color);\n",
              "    }\n",
              "    20% {\n",
              "      border-color: transparent;\n",
              "      border-left-color: var(--fill-color);\n",
              "      border-top-color: var(--fill-color);\n",
              "    }\n",
              "    30% {\n",
              "      border-color: transparent;\n",
              "      border-left-color: var(--fill-color);\n",
              "      border-top-color: var(--fill-color);\n",
              "      border-right-color: var(--fill-color);\n",
              "    }\n",
              "    40% {\n",
              "      border-color: transparent;\n",
              "      border-right-color: var(--fill-color);\n",
              "      border-top-color: var(--fill-color);\n",
              "    }\n",
              "    60% {\n",
              "      border-color: transparent;\n",
              "      border-right-color: var(--fill-color);\n",
              "    }\n",
              "    80% {\n",
              "      border-color: transparent;\n",
              "      border-right-color: var(--fill-color);\n",
              "      border-bottom-color: var(--fill-color);\n",
              "    }\n",
              "    90% {\n",
              "      border-color: transparent;\n",
              "      border-bottom-color: var(--fill-color);\n",
              "    }\n",
              "  }\n",
              "</style>\n",
              "\n",
              "  <script>\n",
              "    async function quickchart(key) {\n",
              "      const quickchartButtonEl =\n",
              "        document.querySelector('#' + key + ' button');\n",
              "      quickchartButtonEl.disabled = true;  // To prevent multiple clicks.\n",
              "      quickchartButtonEl.classList.add('colab-df-spinner');\n",
              "      try {\n",
              "        const charts = await google.colab.kernel.invokeFunction(\n",
              "            'suggestCharts', [key], {});\n",
              "      } catch (error) {\n",
              "        console.error('Error during call to suggestCharts:', error);\n",
              "      }\n",
              "      quickchartButtonEl.classList.remove('colab-df-spinner');\n",
              "      quickchartButtonEl.classList.add('colab-df-quickchart-complete');\n",
              "    }\n",
              "    (() => {\n",
              "      let quickchartButtonEl =\n",
              "        document.querySelector('#df-84babf41-7779-4ef7-801b-d8aacbdd0c7d button');\n",
              "      quickchartButtonEl.style.display =\n",
              "        google.colab.kernel.accessAllowed ? 'block' : 'none';\n",
              "    })();\n",
              "  </script>\n",
              "</div>\n",
              "    </div>\n",
              "  </div>\n"
            ],
            "application/vnd.google.colaboratory.intrinsic+json": {
              "type": "dataframe",
              "summary": "{\n  \"name\": \"pd\",\n  \"rows\": 26,\n  \"fields\": [\n    {\n      \"column\": 0,\n      \"properties\": {\n        \"dtype\": \"string\",\n        \"num_unique_values\": 17,\n        \"samples\": [\n          1600.0611366480691,\n          2487.4658917122865,\n          50.97267123287671\n        ],\n        \"semantic_type\": \"\",\n        \"description\": \"\"\n      }\n    }\n  ]\n}"
            }
          },
          "metadata": {},
          "execution_count": 68
        }
      ]
    },
    {
      "cell_type": "code",
      "source": [
        "import pandas as pd\n",
        "df1 = pd.concat([stadf, accdf, bradf, cordf])"
      ],
      "metadata": {
        "id": "pv1O3IeDFinp"
      },
      "execution_count": null,
      "outputs": []
    },
    {
      "cell_type": "code",
      "source": [
        "with pd.ExcelWriter(\"/content/drive/MyDrive/Cargas/Outputs.xlsx\") as writer:\n",
        "    df1.to_excel(writer)"
      ],
      "metadata": {
        "id": "esmBwM_4YSz-"
      },
      "execution_count": null,
      "outputs": []
    }
  ]
}